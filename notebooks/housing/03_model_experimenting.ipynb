{
 "cells": [
  {
   "cell_type": "markdown",
   "metadata": {},
   "source": [
    "# Purpose"
   ]
  },
  {
   "cell_type": "markdown",
   "metadata": {},
   "source": [
    "This notebook demonstrates the model experimentation and finalization. It covers EDA, outlier treatment, transformation, training, model evaluation and comparison across models."
   ]
  },
  {
   "cell_type": "markdown",
   "metadata": {},
   "source": [
    "## Imports"
   ]
  },
  {
   "cell_type": "code",
   "execution_count": 1,
   "metadata": {},
   "outputs": [],
   "source": [
    "import os\n",
    "import os.path as op\n",
    "import shutil\n",
    "\n",
    "# standard third party imports\n",
    "import numpy as np\n",
    "import pandas as pd\n",
    "from matplotlib import pyplot as plt\n",
    "from sklearn.pipeline import Pipeline\n",
    "from sklearn.feature_selection import SelectFromModel\n",
    "from sklearn.model_selection import GridSearchCV\n",
    "from sklearn.preprocessing import FunctionTransformer\n",
    "from sklearn.compose import ColumnTransformer\n",
    "\n",
    "# impute missing values\n",
    "from sklearn.experimental import enable_iterative_imputer  # noqa\n",
    "from sklearn.impute import KNNImputer, IterativeImputer, SimpleImputer\n",
    "from sklearn.tree import DecisionTreeRegressor\n",
    "from category_encoders import TargetEncoder\n"
   ]
  },
  {
   "cell_type": "code",
   "execution_count": 2,
   "metadata": {},
   "outputs": [],
   "source": [
    "%load_ext autoreload\n",
    "%autoreload 2"
   ]
  },
  {
   "cell_type": "code",
   "execution_count": 9,
   "metadata": {},
   "outputs": [],
   "source": [
    "# standard code-template imports\n",
    "from ta_lib.core.api import (\n",
    "    create_context, get_dataframe, get_feature_names_from_column_transformer, string_cleaning,\n",
    "    get_package_path, display_as_tabs, save_pipeline, load_pipeline, initialize_environment,\n",
    "    load_dataset, save_dataset, DEFAULT_ARTIFACTS_PATH\n",
    ")\n",
    "\n",
    "import ta_lib.eda.api as eda\n",
    "from xgboost import XGBRegressor\n",
    "from ta_lib.regression.api import SKLStatsmodelOLS\n",
    "from ta_lib.regression.api import RegressionComparison, RegressionReport\n",
    "import ta_lib.reports.api as reports\n",
    "from ta_lib.regression.estimators import CustomTargetTransformer\n",
    "from ta_lib.data_processing.api import Outlier\n",
    "\n",
    "initialize_environment(debug=False, hide_warnings=True)"
   ]
  },
  {
   "cell_type": "markdown",
   "metadata": {},
   "source": [
    "# Initialization"
   ]
  },
  {
   "cell_type": "code",
   "execution_count": 10,
   "metadata": {},
   "outputs": [],
   "source": [
    "artifacts_folder = DEFAULT_ARTIFACTS_PATH"
   ]
  },
  {
   "cell_type": "code",
   "execution_count": 11,
   "metadata": {},
   "outputs": [],
   "source": [
    "config_path = op.join('conf', 'config.yml')\n",
    "context = create_context(config_path)"
   ]
  },
  {
   "cell_type": "markdown",
   "metadata": {},
   "source": [
    "# 3 Feature Engineering\n",
    "\n",
    "The focus here is the `Pipeline` and not the model. Though the model would inform the pipeline that is needed to train the model, our focus is to set it up in such a way that it can be saved/loaded, tweaked for different model choices and so on."
   ]
  },
  {
   "cell_type": "markdown",
   "metadata": {},
   "source": [
    "## 3.1 Read the Train and Test Data"
   ]
  },
  {
   "cell_type": "code",
   "execution_count": 12,
   "metadata": {},
   "outputs": [
    {
     "name": "stdout",
     "output_type": "stream",
     "text": [
      "(16512, 10) (16512, 1)\n",
      "(4128, 10) (4128, 1)\n"
     ]
    }
   ],
   "source": [
    "train_X = load_dataset(context, 'train/house/features')\n",
    "train_y = load_dataset(context, 'train/house/target')\n",
    "print(train_X.shape, train_y.shape)\n",
    "\n",
    "test_X = load_dataset(context, 'test/house/features')\n",
    "test_y = load_dataset(context, 'test/house/target')\n",
    "print(test_X.shape, test_y.shape)"
   ]
  },
  {
   "cell_type": "markdown",
   "metadata": {},
   "source": [
    "## 3.2 Feature Engineering Pipelines\n"
   ]
  },
  {
   "cell_type": "markdown",
   "metadata": {},
   "source": [
    "**Dev NOTES**\n",
    "\n",
    "For Feature Engineering and Model Building sklearn.pipeline.Pipeline are leveraged because of the following advantages\n",
    "<details>\n",
    "    \n",
    "1. It helps in automating workflows and are easier to read and comprehend.\n",
    "2. Right Sequence can be ensured and (for example always encodes before imputing)\n",
    "3. Reproducibility is very convenient with pipelines\n",
    "4. Pipelines help you prevent data leakage in your test data\n",
    "5. Code is near implementation ready"
   ]
  },
  {
   "cell_type": "markdown",
   "metadata": {},
   "source": [
    "#### General Steps in the Feature Transformation are as follows\n",
    " - Outlier Treatment\n",
    " - Encoding of Categorical Columns\n",
    " - Missing Values Imputation"
   ]
  },
  {
   "cell_type": "code",
   "execution_count": 13,
   "metadata": {},
   "outputs": [],
   "source": [
    "# collecting different types of columns for transformations\n",
    "cat_columns = train_X.select_dtypes('object').columns\n",
    "num_columns = train_X.select_dtypes('number').columns"
   ]
  },
  {
   "cell_type": "markdown",
   "metadata": {},
   "source": [
    "#### Outlier Handling\n",
    "- A Custom Transformer is used to handle outliers. It is not included as part of the pipeline as outliers handling are optional for test data\n",
    "- An option to either drop or cap the outliers can be passed during the transform call\n",
    "- If we want to treat outliers for some columns them we can pass cols argument to the Transformer\n",
    "- This will go into production code"
   ]
  },
  {
   "cell_type": "code",
   "execution_count": 14,
   "metadata": {},
   "outputs": [
    {
     "name": "stdout",
     "output_type": "stream",
     "text": [
      "(16512, 10)\n",
      "(16512, 10)\n"
     ]
    }
   ],
   "source": [
    "outlier_transformer = Outlier(method='mean')\n",
    "print(train_X.shape)\n",
    "train_X = outlier_transformer.fit_transform(train_X)\n",
    "print(train_X.shape)"
   ]
  },
  {
   "cell_type": "markdown",
   "metadata": {},
   "source": [
    "#### Encoding\n"
   ]
  },
  {
   "cell_type": "markdown",
   "metadata": {},
   "source": [
    "Some sample pipelines showcasing how to create column specific pipelines and integrating them overall is presented below\n",
    "\n",
    "- Commonly target encoding is done for categorical variables with too many levels.\n",
    "- We also group sparse levels. For fewer levels one hot encoding/label encoding is preferred.\n",
    "- If there is one dominant level, we can use binary encoding.\n",
    "- This will go into production code"
   ]
  },
  {
   "cell_type": "code",
   "execution_count": 15,
   "metadata": {},
   "outputs": [
    {
     "data": {
      "text/plain": [
       "Index(['longitude', 'latitude', 'housing_median_age', 'total_rooms',\n",
       "       'total_bedrooms', 'population', 'households', 'median_income',\n",
       "       'income_cat'],\n",
       "      dtype='object')"
      ]
     },
     "execution_count": 15,
     "metadata": {},
     "output_type": "execute_result"
    }
   ],
   "source": [
    "num_columns"
   ]
  },
  {
   "cell_type": "code",
   "execution_count": 16,
   "metadata": {},
   "outputs": [],
   "source": [
    "tgt_enc_simple_impt = Pipeline([\n",
    "    ('target_encoding', TargetEncoder(return_df=False)),\n",
    "    ('simple_impute', SimpleImputer(strategy='most_frequent')),\n",
    "])\n",
    "\n",
    "\n",
    "# NOTE: the list of transformations here are not sequential but weighted \n",
    "# (if multiple transforms are specified for a particular column)\n",
    "# for sequential transforms use a pipeline as shown above.\n",
    "features_transformer = ColumnTransformer([\n",
    "    \n",
    "    ## categorical columns\n",
    "    ('tgt_enc', TargetEncoder(return_df=False),\n",
    "     list(set(cat_columns) )),\n",
    "    \n",
    "    # NOTE: if the same column gets repeated, then they are weighed in the final output\n",
    "    # If we want a sequence of operations, then we use a pipeline but that doesen't YET support\n",
    "    # get_feature_names. \n",
    "        \n",
    "    ## numeric columns\n",
    "    ('med_enc', SimpleImputer(strategy='median'), num_columns),\n",
    "    \n",
    "])\n"
   ]
  },
  {
   "cell_type": "markdown",
   "metadata": {},
   "source": [
    "**Dev notes(Encoding):**\n",
    "<details>\n",
    "\n",
    "    Some common practices followed in Categorical Feature Encoding are\n",
    "    * For categorical variables with too many levels, target encoding can be done.\n",
    "    * For fewer levels, one hot encoding can be done.\n",
    "    * If one very dominant level is observed, binary encoding can be used.\n",
    "    \n",
    "    \n",
    "</details>"
   ]
  },
  {
   "cell_type": "markdown",
   "metadata": {},
   "source": [
    "## 3.2 Feature analysis\n",
    "\n",
    "Using the pipeline above analyze the features and decide on additional features to add/remove from the pipeline. This section will not be part of the production code, unless input data drifts etc. are explicitly demanded in the project.\n",
    "\n",
    "Here we are primarily focused on feature selection/elimination based on business rules, prior knowledge, data analysis.\n",
    "\n",
    "**We are not building any models at this point.**\n"
   ]
  },
  {
   "cell_type": "markdown",
   "metadata": {},
   "source": [
    "- we create some sample data to analyze that we assume represent the population\n",
    "- train the features transformer and do the analysis as below"
   ]
  },
  {
   "cell_type": "code",
   "execution_count": 17,
   "metadata": {},
   "outputs": [],
   "source": [
    "sample_X = train_X.sample(frac=0.1, random_state=context.random_seed)\n",
    "sample_y = train_y.loc[sample_X.index]\n",
    "\n",
    "sample_train_X = get_dataframe(\n",
    "    features_transformer.fit_transform(sample_X, sample_y), \n",
    "    get_feature_names_from_column_transformer(features_transformer)\n",
    ")\n",
    "\n",
    "# nothing to do for target\n",
    "sample_train_y = sample_y"
   ]
  },
  {
   "cell_type": "markdown",
   "metadata": {},
   "source": [
    "Running the features transformer on the complete data"
   ]
  },
  {
   "cell_type": "code",
   "execution_count": 18,
   "metadata": {},
   "outputs": [],
   "source": [
    "train_X = get_dataframe(\n",
    "    features_transformer.fit_transform(train_X, train_y), \n",
    "    get_feature_names_from_column_transformer(features_transformer)\n",
    ")"
   ]
  },
  {
   "cell_type": "markdown",
   "metadata": {},
   "source": [
    "### 3.2.1 Univariate\n",
    "\n",
    "\n",
    "- Look at each variable independently. This is useful if your models have assumptions on the distribution and/or bounds on the features/target"
   ]
  },
  {
   "cell_type": "code",
   "execution_count": 19,
   "metadata": {},
   "outputs": [
    {
     "data": {
      "text/plain": [
       "Index(['longitude', 'latitude', 'housing_median_age', 'total_rooms',\n",
       "       'total_bedrooms', 'population', 'households', 'median_income'],\n",
       "      dtype='object')"
      ]
     },
     "execution_count": 19,
     "metadata": {},
     "output_type": "execute_result"
    }
   ],
   "source": [
    "train_X.columns[1:-1]"
   ]
  },
  {
   "cell_type": "code",
   "execution_count": 20,
   "metadata": {},
   "outputs": [
    {
     "data": {},
     "metadata": {},
     "output_type": "display_data"
    },
    {
     "data": {
      "application/vnd.holoviews_exec.v0+json": "",
      "text/html": [
       "<div id='1002'>\n",
       "  <div class=\"bk-root\" id=\"85faa656-0bf3-4c67-af72-e36781f5ef1d\" data-root-id=\"1002\"></div>\n",
       "</div>\n",
       "<script type=\"application/javascript\">(function(root) {\n",
       "  function embed_document(root) {\n",
       "    var docs_json = {\"0c1c5372-95bb-41f8-bbf2-cc181b82a0a5\":{\"defs\":[{\"extends\":null,\"module\":null,\"name\":\"ReactiveHTML1\",\"overrides\":[],\"properties\":[]},{\"extends\":null,\"module\":null,\"name\":\"FlexBox1\",\"overrides\":[],\"properties\":[{\"default\":\"flex-start\",\"kind\":null,\"name\":\"align_content\"},{\"default\":\"flex-start\",\"kind\":null,\"name\":\"align_items\"},{\"default\":\"row\",\"kind\":null,\"name\":\"flex_direction\"},{\"default\":\"wrap\",\"kind\":null,\"name\":\"flex_wrap\"},{\"default\":\"flex-start\",\"kind\":null,\"name\":\"justify_content\"}]},{\"extends\":null,\"module\":null,\"name\":\"GridStack1\",\"overrides\":[],\"properties\":[{\"default\":\"warn\",\"kind\":null,\"name\":\"mode\"},{\"default\":null,\"kind\":null,\"name\":\"ncols\"},{\"default\":null,\"kind\":null,\"name\":\"nrows\"},{\"default\":true,\"kind\":null,\"name\":\"allow_resize\"},{\"default\":true,\"kind\":null,\"name\":\"allow_drag\"},{\"default\":[],\"kind\":null,\"name\":\"state\"}]},{\"extends\":null,\"module\":null,\"name\":\"click1\",\"overrides\":[],\"properties\":[{\"default\":\"\",\"kind\":null,\"name\":\"terminal_output\"},{\"default\":\"\",\"kind\":null,\"name\":\"debug_name\"},{\"default\":0,\"kind\":null,\"name\":\"clears\"}]},{\"extends\":null,\"module\":null,\"name\":\"NotificationAreaBase1\",\"overrides\":[],\"properties\":[{\"default\":\"bottom-right\",\"kind\":null,\"name\":\"position\"},{\"default\":0,\"kind\":null,\"name\":\"_clear\"}]},{\"extends\":null,\"module\":null,\"name\":\"NotificationArea1\",\"overrides\":[],\"properties\":[{\"default\":[],\"kind\":null,\"name\":\"notifications\"},{\"default\":\"bottom-right\",\"kind\":null,\"name\":\"position\"},{\"default\":0,\"kind\":null,\"name\":\"_clear\"},{\"default\":[{\"background\":\"#ffc107\",\"icon\":{\"className\":\"fas fa-exclamation-triangle\",\"color\":\"white\",\"tagName\":\"i\"},\"type\":\"warning\"},{\"background\":\"#007bff\",\"icon\":{\"className\":\"fas fa-info-circle\",\"color\":\"white\",\"tagName\":\"i\"},\"type\":\"info\"}],\"kind\":null,\"name\":\"types\"}]},{\"extends\":null,\"module\":null,\"name\":\"Notification\",\"overrides\":[],\"properties\":[{\"default\":null,\"kind\":null,\"name\":\"background\"},{\"default\":3000,\"kind\":null,\"name\":\"duration\"},{\"default\":null,\"kind\":null,\"name\":\"icon\"},{\"default\":\"\",\"kind\":null,\"name\":\"message\"},{\"default\":null,\"kind\":null,\"name\":\"notification_type\"},{\"default\":false,\"kind\":null,\"name\":\"_destroyed\"}]},{\"extends\":null,\"module\":null,\"name\":\"TemplateActions1\",\"overrides\":[],\"properties\":[{\"default\":0,\"kind\":null,\"name\":\"open_modal\"},{\"default\":0,\"kind\":null,\"name\":\"close_modal\"}]},{\"extends\":null,\"module\":null,\"name\":\"MaterialTemplateActions1\",\"overrides\":[],\"properties\":[{\"default\":0,\"kind\":null,\"name\":\"open_modal\"},{\"default\":0,\"kind\":null,\"name\":\"close_modal\"}]}],\"roots\":{\"references\":[{\"attributes\":{},\"id\":\"1044\",\"type\":\"BasicTickFormatter\"},{\"attributes\":{\"margin\":[5,5,5,5],\"name\":\"HSpacer03002\",\"sizing_mode\":\"stretch_width\"},\"id\":\"1006\",\"type\":\"Spacer\"},{\"attributes\":{},\"id\":\"1045\",\"type\":\"AllLabels\"},{\"attributes\":{\"data\":{\"A_25_percent\":{\"__ndarray__\":\"UrgehetxXsA=\",\"dtype\":\"float64\",\"order\":\"little\",\"shape\":[1]},\"A_50_percent\":{\"__ndarray__\":\"j8L1KFyfXcA=\",\"dtype\":\"float64\",\"order\":\"little\",\"shape\":[1]},\"A_75_percent\":{\"__ndarray__\":\"AAAAAACAXcA=\",\"dtype\":\"float64\",\"order\":\"little\",\"shape\":[1]},\"count\":{\"__ndarray__\":\"AAAAAAAg0EA=\",\"dtype\":\"float64\",\"order\":\"little\",\"shape\":[1]},\"max\":{\"__ndarray__\":\"rkfhehSeXMA=\",\"dtype\":\"float64\",\"order\":\"little\",\"shape\":[1]},\"mean\":{\"__ndarray__\":\"pHA9CtfjXcA=\",\"dtype\":\"float64\",\"order\":\"little\",\"shape\":[1]},\"min\":{\"__ndarray__\":\"ZmZmZmYWX8A=\",\"dtype\":\"float64\",\"order\":\"little\",\"shape\":[1]},\"std\":{\"__ndarray__\":\"AAAAAAAAAEA=\",\"dtype\":\"float64\",\"order\":\"little\",\"shape\":[1]}},\"selected\":{\"id\":\"1172\"},\"selection_policy\":{\"id\":\"1232\"}},\"id\":\"1171\",\"type\":\"ColumnDataSource\"},{\"attributes\":{\"bottom\":{\"value\":0},\"fill_alpha\":{\"value\":0.1},\"fill_color\":{\"value\":\"#00fff0\"},\"hatch_alpha\":{\"value\":0.1},\"hatch_color\":{\"value\":\"#00fff0\"},\"left\":{\"field\":\"left\"},\"line_alpha\":{\"value\":0.1},\"right\":{\"field\":\"right\"},\"top\":{\"field\":\"top\"}},\"id\":\"1050\",\"type\":\"Quad\"},{\"attributes\":{\"coordinates\":null,\"group\":null,\"text\":\"Density Plot for longitude\",\"text_color\":\"black\",\"text_font_size\":\"12pt\"},\"id\":\"1011\",\"type\":\"Title\"},{\"attributes\":{},\"id\":\"1232\",\"type\":\"UnionRenderers\"},{\"attributes\":{\"children\":[{\"id\":\"1003\"},{\"id\":\"1004\"},{\"id\":\"1428\"}],\"margin\":[0,0,0,0],\"name\":\"Row02992\"},\"id\":\"1002\",\"type\":\"Row\"},{\"attributes\":{\"bottom\":{\"value\":0},\"fill_color\":{\"value\":\"#00fff0\"},\"hatch_color\":{\"value\":\"#00fff0\"},\"left\":{\"field\":\"left\"},\"right\":{\"field\":\"right\"},\"top\":{\"field\":\"top\"}},\"id\":\"1049\",\"type\":\"Quad\"},{\"attributes\":{\"data\":{\"left\":{\"__ndarray__\":\"ZmZmZmYWX8AQWDm0yPZewLpJDAIr117AZDvfT423XsAOLbKd75dewLgehetReF7AYhBYObRYXsAMAiuHFjlewLbz/dR4GV7AYOXQItv5XcAK16NwPdpdwLTIdr6ful3AXrpJDAKbXcAIrBxaZHtdwLKd76fGW13AXI/C9Sg8XcAGgZVDixxdwLByaJHt/FzAWmQ730/dXMAEVg4tsr1cwA==\",\"dtype\":\"float64\",\"order\":\"little\",\"shape\":[20]},\"right\":{\"__ndarray__\":\"EFg5tMj2XsC6SQwCK9dewGQ730+Nt17ADi2yne+XXsC4HoXrUXhewGIQWDm0WF7ADAIrhxY5XsC28/3UeBlewGDl0CLb+V3ACtejcD3aXcC0yHa+n7pdwF66SQwCm13ACKwcWmR7XcCyne+nxltdwFyPwvUoPF3ABoGVQ4scXcCwcmiR7fxcwFpkO99P3VzABFYOLbK9XMCuR+F6FJ5cwA==\",\"dtype\":\"float64\",\"order\":\"little\",\"shape\":[20]},\"top\":[106,41,114,1065,2421,1126,978,481,264,590,611,847,4281,1370,1819,186,94,83,12,23]},\"selected\":{\"id\":\"1047\"},\"selection_policy\":{\"id\":\"1076\"}},\"id\":\"1046\",\"type\":\"ColumnDataSource\"},{\"attributes\":{\"margin\":[5,5,5,5],\"name\":\"HSpacer03003\",\"sizing_mode\":\"stretch_width\"},\"id\":\"1422\",\"type\":\"Spacer\"},{\"attributes\":{},\"id\":\"1015\",\"type\":\"LinearScale\"},{\"attributes\":{\"source\":{\"id\":\"1046\"}},\"id\":\"1053\",\"type\":\"CDSView\"},{\"attributes\":{},\"id\":\"1071\",\"type\":\"BasicTickFormatter\"},{\"attributes\":{\"children\":[{\"id\":\"1006\"},{\"id\":\"1239\"},{\"id\":\"1422\"}],\"margin\":[0,0,0,0],\"name\":\"Row03004\"},\"id\":\"1005\",\"type\":\"Row\"},{\"attributes\":{\"below\":[{\"id\":\"1019\"}],\"center\":[{\"id\":\"1022\"},{\"id\":\"1026\"}],\"extra_y_ranges\":{\"twiny\":{\"id\":\"1064\"}},\"height\":300,\"left\":[{\"id\":\"1023\"}],\"margin\":null,\"min_border_bottom\":10,\"min_border_left\":10,\"min_border_right\":10,\"min_border_top\":10,\"renderers\":[{\"id\":\"1052\"},{\"id\":\"1061\"}],\"right\":[{\"id\":\"1065\"}],\"sizing_mode\":\"fixed\",\"title\":{\"id\":\"1011\"},\"toolbar\":{\"id\":\"1033\"},\"toolbar_location\":null,\"x_range\":{\"id\":\"1007\"},\"x_scale\":{\"id\":\"1015\"},\"y_range\":{\"id\":\"1008\"},\"y_scale\":{\"id\":\"1017\"}},\"id\":\"1010\",\"subtype\":\"Figure\",\"type\":\"Plot\"},{\"attributes\":{},\"id\":\"1047\",\"type\":\"Selection\"},{\"attributes\":{\"coordinates\":null,\"data_source\":{\"id\":\"1046\"},\"glyph\":{\"id\":\"1049\"},\"group\":null,\"hover_glyph\":null,\"muted_glyph\":{\"id\":\"1051\"},\"nonselection_glyph\":{\"id\":\"1050\"},\"selection_glyph\":{\"id\":\"1054\"},\"view\":{\"id\":\"1053\"}},\"id\":\"1052\",\"type\":\"GlyphRenderer\"},{\"attributes\":{},\"id\":\"1070\",\"type\":\"BasicTicker\"},{\"attributes\":{\"end\":-113.02791950008196,\"reset_end\":-113.02791950008196,\"reset_start\":-125.79208049991803,\"start\":-125.79208049991803,\"tags\":[[[\"x\",\"x\",null]]]},\"id\":\"1007\",\"type\":\"Range1d\"},{\"attributes\":{\"bottom\":{\"value\":0},\"fill_alpha\":{\"value\":0.2},\"fill_color\":{\"value\":\"#00fff0\"},\"hatch_alpha\":{\"value\":0.2},\"hatch_color\":{\"value\":\"#00fff0\"},\"left\":{\"field\":\"left\"},\"line_alpha\":{\"value\":0.2},\"right\":{\"field\":\"right\"},\"top\":{\"field\":\"top\"}},\"id\":\"1051\",\"type\":\"Quad\"},{\"attributes\":{},\"id\":\"1072\",\"type\":\"AllLabels\"},{\"attributes\":{\"callback\":null,\"renderers\":[{\"id\":\"1061\"}],\"tags\":[\"hv_created\"],\"tooltips\":[[\"longitude\",\"@{longitude}\"],[\"Density\",\"@{longitude_density}\"]]},\"id\":\"1009\",\"type\":\"HoverTool\"},{\"attributes\":{\"end\":4323.81,\"reset_end\":4709.099999449752,\"reset_start\":0.0,\"tags\":[[[\"Frequency\",\"Frequency\",null]]]},\"id\":\"1008\",\"type\":\"Range1d\"},{\"attributes\":{\"bottom\":{\"value\":0},\"fill_alpha\":{\"value\":1.0},\"fill_color\":{\"value\":\"#00fff0\"},\"hatch_alpha\":{\"value\":1.0},\"hatch_color\":{\"value\":\"#00fff0\"},\"hatch_scale\":{\"value\":12.0},\"hatch_weight\":{\"value\":1.0},\"left\":{\"field\":\"left\"},\"line_alpha\":{\"value\":1.0},\"line_cap\":{\"value\":\"butt\"},\"line_color\":{\"value\":\"black\"},\"line_dash\":{\"value\":[]},\"line_dash_offset\":{\"value\":0},\"line_join\":{\"value\":\"bevel\"},\"line_width\":{\"value\":1},\"right\":{\"field\":\"right\"},\"top\":{\"field\":\"top\"}},\"id\":\"1054\",\"type\":\"Quad\"},{\"attributes\":{\"axis\":{\"id\":\"1019\"},\"coordinates\":null,\"grid_line_color\":null,\"group\":null,\"ticker\":null},\"id\":\"1022\",\"type\":\"Grid\"},{\"attributes\":{},\"id\":\"1020\",\"type\":\"BasicTicker\"},{\"attributes\":{},\"id\":\"1056\",\"type\":\"Selection\"},{\"attributes\":{\"children\":[[{\"id\":\"1010\"},0,0],[{\"id\":\"1213\"},1,0]]},\"id\":\"1234\",\"type\":\"GridBox\"},{\"attributes\":{\"editor\":{\"id\":\"1376\"},\"field\":\"std\",\"formatter\":{\"id\":\"1375\"},\"title\":\"std\"},\"id\":\"1377\",\"type\":\"TableColumn\"},{\"attributes\":{\"axis_label\":\"longitude\",\"coordinates\":null,\"formatter\":{\"id\":\"1041\"},\"group\":null,\"major_label_policy\":{\"id\":\"1042\"},\"ticker\":{\"id\":\"1020\"}},\"id\":\"1019\",\"type\":\"LinearAxis\"},{\"attributes\":{\"fill_alpha\":0.5,\"fill_color\":\"#30a2da\",\"hatch_color\":\"#30a2da\",\"x\":{\"field\":\"x\"},\"y\":{\"field\":\"y\"}},\"id\":\"1058\",\"type\":\"Patch\"},{\"attributes\":{},\"id\":\"1017\",\"type\":\"LinearScale\"},{\"attributes\":{\"client_comm_id\":\"b37bcad9632f45caa4fcecc2080af627\",\"comm_id\":\"f64f9a1698094caab8128c5f70a91595\",\"plot_id\":\"1002\"},\"id\":\"1480\",\"type\":\"panel.models.comm_manager.CommManager\"},{\"attributes\":{\"editor\":{\"id\":\"1371\"},\"field\":\"mean\",\"formatter\":{\"id\":\"1370\"},\"title\":\"mean\"},\"id\":\"1372\",\"type\":\"TableColumn\"},{\"attributes\":{},\"id\":\"1076\",\"type\":\"UnionRenderers\"},{\"attributes\":{\"margin\":[5,5,5,5],\"name\":\"HSpacer03006\",\"sizing_mode\":\"stretch_width\"},\"id\":\"1428\",\"type\":\"Spacer\"},{\"attributes\":{\"axis_label\":\"Frequency\",\"coordinates\":null,\"formatter\":{\"id\":\"1044\"},\"group\":null,\"major_label_policy\":{\"id\":\"1045\"},\"ticker\":{\"id\":\"1024\"}},\"id\":\"1023\",\"type\":\"LinearAxis\"},{\"attributes\":{},\"id\":\"1024\",\"type\":\"BasicTicker\"},{\"attributes\":{\"axis\":{\"id\":\"1023\"},\"coordinates\":null,\"dimension\":1,\"grid_line_color\":null,\"group\":null,\"ticker\":null},\"id\":\"1026\",\"type\":\"Grid\"},{\"attributes\":{},\"id\":\"1027\",\"type\":\"SaveTool\"},{\"attributes\":{},\"id\":\"1376\",\"type\":\"NumberEditor\"},{\"attributes\":{\"bottom_units\":\"screen\",\"coordinates\":null,\"fill_alpha\":0.5,\"fill_color\":\"lightgrey\",\"group\":null,\"left_units\":\"screen\",\"level\":\"overlay\",\"line_alpha\":1.0,\"line_color\":\"black\",\"line_dash\":[4,4],\"line_width\":2,\"right_units\":\"screen\",\"syncable\":false,\"top_units\":\"screen\"},\"id\":\"1032\",\"type\":\"BoxAnnotation\"},{\"attributes\":{\"format\":\"0,0.0[00000]\"},\"id\":\"1370\",\"type\":\"NumberFormatter\"},{\"attributes\":{},\"id\":\"1028\",\"type\":\"PanTool\"},{\"attributes\":{\"columns\":[{\"id\":\"1367\"},{\"id\":\"1372\"},{\"id\":\"1377\"},{\"id\":\"1382\"},{\"id\":\"1387\"},{\"id\":\"1392\"},{\"id\":\"1397\"},{\"id\":\"1402\"}],\"height\":60,\"reorderable\":false,\"source\":{\"id\":\"1171\"},\"view\":{\"id\":\"1215\"}},\"id\":\"1213\",\"type\":\"DataTable\"},{\"attributes\":{},\"id\":\"1029\",\"type\":\"WheelZoomTool\"},{\"attributes\":{\"children\":[{\"id\":\"1424\"},{\"id\":\"1425\"},{\"id\":\"1427\"}],\"margin\":[0,0,0,0],\"name\":\"Row03000\"},\"id\":\"1423\",\"type\":\"Row\"},{\"attributes\":{\"editor\":{\"id\":\"1386\"},\"field\":\"A_25_percent\",\"formatter\":{\"id\":\"1385\"},\"title\":\"25%\"},\"id\":\"1387\",\"type\":\"TableColumn\"},{\"attributes\":{\"overlay\":{\"id\":\"1032\"}},\"id\":\"1030\",\"type\":\"BoxZoomTool\"},{\"attributes\":{},\"id\":\"1031\",\"type\":\"ResetTool\"},{\"attributes\":{\"fill_alpha\":0.2,\"fill_color\":\"#30a2da\",\"hatch_alpha\":0.2,\"hatch_color\":\"#30a2da\",\"line_alpha\":0.2,\"x\":{\"field\":\"x\"},\"y\":{\"field\":\"y\"}},\"id\":\"1060\",\"type\":\"Patch\"},{\"attributes\":{},\"id\":\"1396\",\"type\":\"NumberEditor\"},{\"attributes\":{\"children\":[{\"id\":\"1005\"},{\"id\":\"1423\"}],\"margin\":[0,0,0,0],\"name\":\"Column03005\"},\"id\":\"1004\",\"type\":\"Column\"},{\"attributes\":{\"editor\":{\"id\":\"1381\"},\"field\":\"min\",\"formatter\":{\"id\":\"1380\"},\"title\":\"min\"},\"id\":\"1382\",\"type\":\"TableColumn\"},{\"attributes\":{\"coordinates\":null,\"data_source\":{\"id\":\"1055\"},\"glyph\":{\"id\":\"1058\"},\"group\":null,\"hover_glyph\":null,\"muted_glyph\":{\"id\":\"1060\"},\"nonselection_glyph\":{\"id\":\"1059\"},\"selection_glyph\":{\"id\":\"1063\"},\"view\":{\"id\":\"1062\"},\"y_range_name\":\"twiny\"},\"id\":\"1061\",\"type\":\"GlyphRenderer\"},{\"attributes\":{\"format\":\"0,0.0[00000]\"},\"id\":\"1385\",\"type\":\"NumberFormatter\"},{\"attributes\":{\"format\":\"0,0.0[00000]\"},\"id\":\"1390\",\"type\":\"NumberFormatter\"},{\"attributes\":{\"margin\":[5,5,5,5],\"name\":\"HSpacer03001\",\"sizing_mode\":\"stretch_width\"},\"id\":\"1003\",\"type\":\"Spacer\"},{\"attributes\":{\"margin\":[5,5,5,5],\"name\":\"HSpacer02998\",\"sizing_mode\":\"stretch_width\"},\"id\":\"1424\",\"type\":\"Spacer\"},{\"attributes\":{\"format\":\"0,0.0[00000]\"},\"id\":\"1375\",\"type\":\"NumberFormatter\"},{\"attributes\":{},\"id\":\"1078\",\"type\":\"UnionRenderers\"},{\"attributes\":{\"tools\":[{\"id\":\"1009\"},{\"id\":\"1027\"},{\"id\":\"1028\"},{\"id\":\"1029\"},{\"id\":\"1030\"},{\"id\":\"1031\"}]},\"id\":\"1033\",\"type\":\"Toolbar\"},{\"attributes\":{\"data\":{\"x\":{\"__ndarray__\":\"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\",\"dtype\":\"float64\",\"order\":\"little\",\"shape\":[200]},\"y\":{\"__ndarray__\":\"AAAAAAAAAAAAAAAAAAAAAAAAAAAAAAAAAAAAAAAAAAAAAAAAAAAAAAAAAAAAAAAAAAAAAAAAAAAAAAAAAAAAAAAAAAAAAAAAAAAAAAAAAAAAAAAAAAAAAAAAAAAAAAAAAAAAAAAAAAAAAAAAAAAAAAAAAAAAAAAAAAAAAAAAAAAAAAAAAAAAAAAAAAAAAAAAAAAAAAAAAAAAAAAAAAAAAAAAAAAAAAAAAAAAAAAAAAAAAAAAAAAAAAAAAAAAAAAAAAAAAAAAAAAAAAAAAAAAAAAAAAAAAAAAAAAAAAAAAAAAAAAAAAAAAAAAAAAAAAAAAAAAAAAAAAAAAAAAAAAAAAAAAAAAAAAAAAAAAAAAAAAAAAAAAAAAAAAAAAAAAAAAAAAAAAAAAAAAAAAAAAAAAAAAAAAAAAAAAAAAAAAAAAAAAAAAAAAAAAAAAAAAAAAAAAAAAAAAAAAAAAAAAAAAAAAAAAAAAAAAAAAAAAAAAAAAAAAAAAAAAAAAAAAAAAAAAAAAAAAAAAAAAAAAAAAAAAAAAAAAAAAAAAAAAAAAAAAAAAAAAAAAAAAAAAAAAAAAAAAAAAAAAAAAAAAAAAAAAAAAAAAAAAAAAAAAAAAAAAAAAAAAAAAAAAAAAAAAAAAAAAAAAAAAAAAAAAAAAAAAAAAAAAAAAAAAAAAAAAAAAAAAAAAAAAAAAAAAAAAAAAAAAAAAAAAAAAAAAAAAAAAAAAAAAAAAAAAAAAAAAAAAAAAAAAAAAAAAAAAAAAAAAAAAAAAAAAAAAAAAAAAAAAAAAAAAAAAAAAAAAAAAAAAAAAAAAAAAAAAAAAAAAAAAAAAAAAAAAAAAAAAAAAAAAAAAAAAAAAAAAAAAAAAAAAAAAAAAAAAAAAAAAAAAAAAAAAAAAAAAAAAAAAAAAAAAAAAAAAAAAAAAAAAAAAAAAAAAAAAAAAAAAAAAAAAAAAAAAAAAAAAAAAAAAAAAAAAAAAAAAAAAAAAAAAAAAAAAAAAAAAAAAAAAAAAAAAAAAAAAAAAAAAAAAAAAAAAAAAAAAAAAAAAAAAAAAAAAAAAAAAAAAAAoI/vZPRTXPgNr/5HCsfQ+LJnC892xDz8dqrpbMrskP+ovj2neKzc/FZorvVIkRj81LwQBQx1SP7KWVWuRdFk/xxuNj3f1Xj/c/zaaqZ1gPySi9sZziWA/FlE43THkYD8H9Ng/3ehjP3Uwr4KaJ2s/++qASr4jcz+dJqvwYFF5P16H0gvyOn4/K2HzUvJSgD8Nsu9I6HqAPx6jYBDagoA/PIsf0nt9gT8D9xkupxWEPyEYSdRroIg/5hksN733jz9FOlUVclOWPy4G3CSn06A/QT6n5eQ9qj+rj9/8s+SzPy1UFKf//bs/la50hgziwT8XZmDRvbjEP/4Tz6fbKMY/cmCD6Ge6xj8brrCZn6LHP95rTuZnHMo/u94FxEO7zj/iddKO6YrSP4euaI0G7dU/dazCof+W2D+UAyfdY6LZP/R/uDmyiNg/VdYhQbpq1T+9No3iFBPRP5Fy1+CLPck/xRNwrC32wT94BNMMJzW6PwvP1nzI0rQ/s7zdehc/sj92Pv2nzBaxP9paEOWJm7A/wzEMyK2GsD9q73U5D56wP+812LCFhLA/K5hTBo7Qrz/mCzAy6JatP70BQC9pHKs/39sgTw9XqT9/iSjp59WoP+4I5oE/mKk/AGy3EtBhqz+KjVbeIyWuP8u6PQzrD7E/VHJVl+zLsz9lYIezHTq3PyM7KRmqA7s/rU7fEaGpvj9o9uN2gvLAPwW0Qq8JgcI/CwnX9JdnxD9xCzGWsf/GP0EdlbkyNso/oQ+BbuhszT80N8/j4LfPP+3hdAYuI9A/Pow7utq0zj9mbGti6yrLP4F8F80BScY/BW/U71PxwD929Jgx5fi3P0riD5kd5K8/skCugc1SpD9PliwUboeZP5Z9t7x0YpA/WpDAmyZfhj9lOkXd9vCAP3ep0h2aj30/WIZkPOnnfT/8ph89qayAPxLKtZVT4oI/WaJnkO4/hD9Uy/QGsaiDP2DNXsTO14A/o+jMsGEceT+FBDHSjShwPyLRa0Fu32E/0ybO52/zUD8/k4Mrzok7PxJ3ABqUJiM/ufpsodPNBj8RxycBTUHnPg==\",\"dtype\":\"float64\",\"order\":\"little\",\"shape\":[200]}},\"selected\":{\"id\":\"1056\"},\"selection_policy\":{\"id\":\"1078\"}},\"id\":\"1055\",\"type\":\"ColumnDataSource\"},{\"attributes\":{\"children\":[{\"id\":\"1426\"}],\"css_classes\":[\"panel-widget-box\"],\"margin\":[5,5,5,5],\"name\":\"WidgetBox02993\"},\"id\":\"1425\",\"type\":\"Column\"},{\"attributes\":{\"source\":{\"id\":\"1171\"}},\"id\":\"1215\",\"type\":\"CDSView\"},{\"attributes\":{\"fill_alpha\":0.5,\"fill_color\":\"#30a2da\",\"hatch_alpha\":0.1,\"hatch_color\":\"#30a2da\",\"line_alpha\":1,\"x\":{\"field\":\"x\"},\"y\":{\"field\":\"y\"}},\"id\":\"1059\",\"type\":\"Patch\"},{\"attributes\":{},\"id\":\"1386\",\"type\":\"NumberEditor\"},{\"attributes\":{\"editor\":{\"id\":\"1366\"},\"field\":\"count\",\"formatter\":{\"id\":\"1365\"},\"title\":\"count\"},\"id\":\"1367\",\"type\":\"TableColumn\"},{\"attributes\":{\"toolbar\":{\"id\":\"1235\"},\"toolbar_location\":\"above\"},\"id\":\"1236\",\"type\":\"ToolbarBox\"},{\"attributes\":{},\"id\":\"1381\",\"type\":\"NumberEditor\"},{\"attributes\":{\"fill_alpha\":0.5,\"fill_color\":\"#30a2da\",\"hatch_color\":\"#30a2da\",\"x\":{\"field\":\"x\"},\"y\":{\"field\":\"y\"}},\"id\":\"1063\",\"type\":\"Patch\"},{\"attributes\":{},\"id\":\"1391\",\"type\":\"NumberEditor\"},{\"attributes\":{\"margin\":[20,20,20,20],\"min_width\":250,\"options\":[\"longitude\",\"latitude\",\"housing_median_age\",\"total_rooms\",\"total_bedrooms\",\"population\",\"households\",\"median_income\"],\"title\":\"col\",\"value\":\"longitude\",\"width\":250},\"id\":\"1426\",\"type\":\"panel.models.widgets.CustomSelect\"},{\"attributes\":{\"style\":{\"white-space\":\"nowrap\"},\"text\":\"<span style=\\\"color:black;font-family:Arial;font-style:bold;font-weight:bold;font-size:12pt\\\">col: longitude</span>\",\"width\":450},\"id\":\"1238\",\"type\":\"Div\"},{\"attributes\":{\"source\":{\"id\":\"1055\"}},\"id\":\"1062\",\"type\":\"CDSView\"},{\"attributes\":{\"format\":\"0,0.0[00000]\"},\"id\":\"1365\",\"type\":\"NumberFormatter\"},{\"attributes\":{},\"id\":\"1371\",\"type\":\"NumberEditor\"},{\"attributes\":{\"format\":\"0,0.0[00000]\"},\"id\":\"1380\",\"type\":\"NumberFormatter\"},{\"attributes\":{\"margin\":[5,5,5,5],\"name\":\"HSpacer02999\",\"sizing_mode\":\"stretch_width\"},\"id\":\"1427\",\"type\":\"Spacer\"},{\"attributes\":{\"toolbars\":[{\"id\":\"1033\"}],\"tools\":[{\"id\":\"1009\"},{\"id\":\"1027\"},{\"id\":\"1028\"},{\"id\":\"1029\"},{\"id\":\"1030\"},{\"id\":\"1031\"}]},\"id\":\"1235\",\"type\":\"ProxyToolbar\"},{\"attributes\":{\"editor\":{\"id\":\"1396\"},\"field\":\"A_75_percent\",\"formatter\":{\"id\":\"1395\"},\"title\":\"75%\"},\"id\":\"1397\",\"type\":\"TableColumn\"},{\"attributes\":{},\"id\":\"1366\",\"type\":\"NumberEditor\"},{\"attributes\":{\"end\":0.4045418697632126},\"id\":\"1064\",\"type\":\"Range1d\"},{\"attributes\":{\"editor\":{\"id\":\"1391\"},\"field\":\"A_50_percent\",\"formatter\":{\"id\":\"1390\"},\"title\":\"50%\"},\"id\":\"1392\",\"type\":\"TableColumn\"},{\"attributes\":{},\"id\":\"1401\",\"type\":\"NumberEditor\"},{\"attributes\":{\"children\":[{\"id\":\"1238\"},{\"id\":\"1237\"}]},\"id\":\"1239\",\"type\":\"Column\"},{\"attributes\":{\"format\":\"0,0.0[00000]\"},\"id\":\"1395\",\"type\":\"NumberFormatter\"},{\"attributes\":{},\"id\":\"1172\",\"type\":\"Selection\"},{\"attributes\":{},\"id\":\"1041\",\"type\":\"BasicTickFormatter\"},{\"attributes\":{\"editor\":{\"id\":\"1401\"},\"field\":\"max\",\"formatter\":{\"id\":\"1400\"},\"title\":\"max\"},\"id\":\"1402\",\"type\":\"TableColumn\"},{\"attributes\":{\"children\":[{\"id\":\"1236\"},{\"id\":\"1234\"}]},\"id\":\"1237\",\"type\":\"Column\"},{\"attributes\":{\"axis_label\":\"longitude_density, y\",\"coordinates\":null,\"formatter\":{\"id\":\"1071\"},\"group\":null,\"major_label_policy\":{\"id\":\"1072\"},\"ticker\":{\"id\":\"1070\"},\"y_range_name\":\"twiny\"},\"id\":\"1065\",\"type\":\"LinearAxis\"},{\"attributes\":{\"format\":\"0,0.0[00000]\"},\"id\":\"1400\",\"type\":\"NumberFormatter\"},{\"attributes\":{},\"id\":\"1042\",\"type\":\"AllLabels\"}],\"root_ids\":[\"1002\",\"1480\"]},\"title\":\"Bokeh Application\",\"version\":\"2.4.3\"}};\n",
       "    var render_items = [{\"docid\":\"0c1c5372-95bb-41f8-bbf2-cc181b82a0a5\",\"root_ids\":[\"1002\"],\"roots\":{\"1002\":\"85faa656-0bf3-4c67-af72-e36781f5ef1d\"}}];\n",
       "    root.Bokeh.embed.embed_items_notebook(docs_json, render_items);\n",
       "  }\n",
       "  if (root.Bokeh !== undefined && root.Bokeh.Panel !== undefined) {\n",
       "    embed_document(root);\n",
       "  } else {\n",
       "    var attempts = 0;\n",
       "    var timer = setInterval(function(root) {\n",
       "      if (root.Bokeh !== undefined && root.Bokeh.Panel !== undefined) {\n",
       "        clearInterval(timer);\n",
       "        embed_document(root);\n",
       "      } else if (document.readyState == \"complete\") {\n",
       "        attempts++;\n",
       "        if (attempts > 200) {\n",
       "          clearInterval(timer);\n",
       "          console.log(\"Bokeh: ERROR: Unable to run BokehJS code because BokehJS library is missing\");\n",
       "        }\n",
       "      }\n",
       "    }, 25, root)\n",
       "  }\n",
       "})(window);</script>"
      ],
      "text/plain": [
       ":DynamicMap   [col]\n",
       "   :Layout\n",
       "      .Overlay.I :Overlay\n",
       "         .Histogram.I    :Histogram   [x]   (Frequency)\n",
       "         .Distribution.I :Distribution   [longitude]   (Density)\n",
       "      .Table.I   :Table   [count,mean,std,min,25%,50%,75%,max]"
      ]
     },
     "execution_count": 20,
     "metadata": {
      "application/vnd.holoviews_exec.v0+json": {
       "id": "1002"
      }
     },
     "output_type": "execute_result"
    }
   ],
   "source": [
    "out = eda.get_density_plots(train_X, cols=['longitude', 'latitude', 'housing_median_age', 'total_rooms',\n",
    "       'total_bedrooms', 'population', 'households', 'median_income'])\n",
    "out"
   ]
  },
  {
   "cell_type": "code",
   "execution_count": 21,
   "metadata": {},
   "outputs": [],
   "source": [
    "# save the plots are html\n",
    "reports.create_report({'univariate': out}, name='feature_analysis_univariate')"
   ]
  },
  {
   "cell_type": "markdown",
   "metadata": {},
   "source": [
    "A report containing the above plot is available [here](https://drive.google.com/file/d/1oqlhJ_GifdEXOT0mOqnGoOIwBt1e5jd2/view?usp=sharing)\n"
   ]
  },
  {
   "cell_type": "markdown",
   "metadata": {},
   "source": [
    "Alternatively, the above plots can be generated as a single html as below. The output from this is available [here](https://drive.google.com/file/d/1mWvPLC2eAEIfNqIYDKpWuAwP6kInkMbw/view?usp=sharing)"
   ]
  },
  {
   "cell_type": "code",
   "execution_count": 22,
   "metadata": {},
   "outputs": [
    {
     "name": "stderr",
     "output_type": "stream",
     "text": [
      "p-value may not be accurate for N > 5000.\n"
     ]
    }
   ],
   "source": [
    "reports.feature_analysis(train_X,'./feature_analysis_report.html')"
   ]
  },
  {
   "cell_type": "markdown",
   "metadata": {},
   "source": [
    "### 3.2.2 Bivariate - mutual interactions"
   ]
  },
  {
   "cell_type": "markdown",
   "metadata": {},
   "source": [
    "- Find columns with high correlations and drop them"
   ]
  },
  {
   "cell_type": "code",
   "execution_count": 23,
   "metadata": {},
   "outputs": [
    {
     "data": {
      "text/html": [
       "<div>\n",
       "<style scoped>\n",
       "    .dataframe tbody tr th:only-of-type {\n",
       "        vertical-align: middle;\n",
       "    }\n",
       "\n",
       "    .dataframe tbody tr th {\n",
       "        vertical-align: top;\n",
       "    }\n",
       "\n",
       "    .dataframe thead th {\n",
       "        text-align: right;\n",
       "    }\n",
       "</style>\n",
       "<table border=\"1\" class=\"dataframe\">\n",
       "  <thead>\n",
       "    <tr style=\"text-align: right;\">\n",
       "      <th></th>\n",
       "      <th>Variable 1</th>\n",
       "      <th>Variable 2</th>\n",
       "      <th>Corr Coef</th>\n",
       "      <th>Abs Corr Coef</th>\n",
       "    </tr>\n",
       "  </thead>\n",
       "  <tbody>\n",
       "    <tr>\n",
       "      <th>0</th>\n",
       "      <td>households</td>\n",
       "      <td>total_bedrooms</td>\n",
       "      <td>0.973557</td>\n",
       "      <td>0.973557</td>\n",
       "    </tr>\n",
       "    <tr>\n",
       "      <th>1</th>\n",
       "      <td>income_cat</td>\n",
       "      <td>median_income</td>\n",
       "      <td>0.938445</td>\n",
       "      <td>0.938445</td>\n",
       "    </tr>\n",
       "    <tr>\n",
       "      <th>2</th>\n",
       "      <td>latitude</td>\n",
       "      <td>longitude</td>\n",
       "      <td>-0.924918</td>\n",
       "      <td>0.924918</td>\n",
       "    </tr>\n",
       "    <tr>\n",
       "      <th>3</th>\n",
       "      <td>total_bedrooms</td>\n",
       "      <td>total_rooms</td>\n",
       "      <td>0.919087</td>\n",
       "      <td>0.919087</td>\n",
       "    </tr>\n",
       "    <tr>\n",
       "      <th>4</th>\n",
       "      <td>households</td>\n",
       "      <td>total_rooms</td>\n",
       "      <td>0.913502</td>\n",
       "      <td>0.913502</td>\n",
       "    </tr>\n",
       "    <tr>\n",
       "      <th>5</th>\n",
       "      <td>households</td>\n",
       "      <td>population</td>\n",
       "      <td>0.907971</td>\n",
       "      <td>0.907971</td>\n",
       "    </tr>\n",
       "    <tr>\n",
       "      <th>6</th>\n",
       "      <td>population</td>\n",
       "      <td>total_bedrooms</td>\n",
       "      <td>0.873697</td>\n",
       "      <td>0.873697</td>\n",
       "    </tr>\n",
       "    <tr>\n",
       "      <th>7</th>\n",
       "      <td>population</td>\n",
       "      <td>total_rooms</td>\n",
       "      <td>0.844430</td>\n",
       "      <td>0.844430</td>\n",
       "    </tr>\n",
       "  </tbody>\n",
       "</table>\n",
       "</div>"
      ],
      "text/plain": [
       "       Variable 1      Variable 2  Corr Coef  Abs Corr Coef\n",
       "0      households  total_bedrooms   0.973557       0.973557\n",
       "1      income_cat   median_income   0.938445       0.938445\n",
       "2        latitude       longitude  -0.924918       0.924918\n",
       "3  total_bedrooms     total_rooms   0.919087       0.919087\n",
       "4      households     total_rooms   0.913502       0.913502\n",
       "5      households      population   0.907971       0.907971\n",
       "6      population  total_bedrooms   0.873697       0.873697\n",
       "7      population     total_rooms   0.844430       0.844430"
      ]
     },
     "execution_count": 23,
     "metadata": {},
     "output_type": "execute_result"
    }
   ],
   "source": [
    "out = eda.get_correlation_table(train_X)\n",
    "out[out[\"Abs Corr Coef\"] > 0.6]"
   ]
  },
  {
   "cell_type": "code",
   "execution_count": 24,
   "metadata": {},
   "outputs": [
    {
     "data": {},
     "metadata": {},
     "output_type": "display_data"
    },
    {
     "data": {
      "application/vnd.holoviews_exec.v0+json": "",
      "text/html": [
       "<div id='12103'>\n",
       "  <div class=\"bk-root\" id=\"8dfd687a-3845-430a-944f-1b679cddd262\" data-root-id=\"12103\"></div>\n",
       "</div>\n",
       "<script type=\"application/javascript\">(function(root) {\n",
       "  function embed_document(root) {\n",
       "    var docs_json = {\"e9a46dd0-b3d6-4181-85ea-730bdf2b77ef\":{\"defs\":[{\"extends\":null,\"module\":null,\"name\":\"ReactiveHTML1\",\"overrides\":[],\"properties\":[]},{\"extends\":null,\"module\":null,\"name\":\"FlexBox1\",\"overrides\":[],\"properties\":[{\"default\":\"flex-start\",\"kind\":null,\"name\":\"align_content\"},{\"default\":\"flex-start\",\"kind\":null,\"name\":\"align_items\"},{\"default\":\"row\",\"kind\":null,\"name\":\"flex_direction\"},{\"default\":\"wrap\",\"kind\":null,\"name\":\"flex_wrap\"},{\"default\":\"flex-start\",\"kind\":null,\"name\":\"justify_content\"}]},{\"extends\":null,\"module\":null,\"name\":\"GridStack1\",\"overrides\":[],\"properties\":[{\"default\":\"warn\",\"kind\":null,\"name\":\"mode\"},{\"default\":null,\"kind\":null,\"name\":\"ncols\"},{\"default\":null,\"kind\":null,\"name\":\"nrows\"},{\"default\":true,\"kind\":null,\"name\":\"allow_resize\"},{\"default\":true,\"kind\":null,\"name\":\"allow_drag\"},{\"default\":[],\"kind\":null,\"name\":\"state\"}]},{\"extends\":null,\"module\":null,\"name\":\"click1\",\"overrides\":[],\"properties\":[{\"default\":\"\",\"kind\":null,\"name\":\"terminal_output\"},{\"default\":\"\",\"kind\":null,\"name\":\"debug_name\"},{\"default\":0,\"kind\":null,\"name\":\"clears\"}]},{\"extends\":null,\"module\":null,\"name\":\"NotificationAreaBase1\",\"overrides\":[],\"properties\":[{\"default\":\"bottom-right\",\"kind\":null,\"name\":\"position\"},{\"default\":0,\"kind\":null,\"name\":\"_clear\"}]},{\"extends\":null,\"module\":null,\"name\":\"NotificationArea1\",\"overrides\":[],\"properties\":[{\"default\":[],\"kind\":null,\"name\":\"notifications\"},{\"default\":\"bottom-right\",\"kind\":null,\"name\":\"position\"},{\"default\":0,\"kind\":null,\"name\":\"_clear\"},{\"default\":[{\"background\":\"#ffc107\",\"icon\":{\"className\":\"fas fa-exclamation-triangle\",\"color\":\"white\",\"tagName\":\"i\"},\"type\":\"warning\"},{\"background\":\"#007bff\",\"icon\":{\"className\":\"fas fa-info-circle\",\"color\":\"white\",\"tagName\":\"i\"},\"type\":\"info\"}],\"kind\":null,\"name\":\"types\"}]},{\"extends\":null,\"module\":null,\"name\":\"Notification\",\"overrides\":[],\"properties\":[{\"default\":null,\"kind\":null,\"name\":\"background\"},{\"default\":3000,\"kind\":null,\"name\":\"duration\"},{\"default\":null,\"kind\":null,\"name\":\"icon\"},{\"default\":\"\",\"kind\":null,\"name\":\"message\"},{\"default\":null,\"kind\":null,\"name\":\"notification_type\"},{\"default\":false,\"kind\":null,\"name\":\"_destroyed\"}]},{\"extends\":null,\"module\":null,\"name\":\"TemplateActions1\",\"overrides\":[],\"properties\":[{\"default\":0,\"kind\":null,\"name\":\"open_modal\"},{\"default\":0,\"kind\":null,\"name\":\"close_modal\"}]},{\"extends\":null,\"module\":null,\"name\":\"MaterialTemplateActions1\",\"overrides\":[],\"properties\":[{\"default\":0,\"kind\":null,\"name\":\"open_modal\"},{\"default\":0,\"kind\":null,\"name\":\"close_modal\"}]}],\"roots\":{\"references\":[{\"attributes\":{},\"id\":\"12160\",\"type\":\"NoOverlap\"},{\"attributes\":{},\"id\":\"12155\",\"type\":\"AllLabels\"},{\"attributes\":{\"aspect_scale\":0.9524291497975717,\"fill_alpha\":{\"value\":0.2},\"fill_color\":{\"field\":\"Count\",\"transform\":{\"id\":\"12138\"}},\"hatch_alpha\":{\"value\":0.2},\"hatch_color\":{\"field\":\"Count\",\"transform\":{\"id\":\"12138\"}},\"line_alpha\":{\"value\":0.2},\"line_color\":{\"field\":\"Count\",\"transform\":{\"id\":\"12138\"}},\"q\":{\"field\":\"q\"},\"r\":{\"field\":\"r\"},\"size\":0.1254666666666667},\"id\":\"12144\",\"type\":\"HexTile\"},{\"attributes\":{\"high\":1050,\"low\":1,\"palette\":[\"#b3fef5\",\"#b0fef5\",\"#adfdf5\",\"#a9fcf5\",\"#a6fbf6\",\"#a3faf6\",\"#a0faf6\",\"#9df9f6\",\"#9af8f6\",\"#97f7f6\",\"#93f7f6\",\"#90f6f6\",\"#8df5f6\",\"#8af4f7\",\"#87f3f7\",\"#83f2f7\",\"#80f2f7\",\"#7df1f7\",\"#79f0f7\",\"#76eff7\",\"#73eef7\",\"#6fedf8\",\"#6cecf8\",\"#68ecf8\",\"#65ebf8\",\"#61eaf8\",\"#5ee9f8\",\"#5ae8f8\",\"#57e7f8\",\"#53e6f8\",\"#50e5f9\",\"#4ce4f9\",\"#49e3f9\",\"#45e2f9\",\"#42e1f9\",\"#3ee0f9\",\"#3bdff9\",\"#38def9\",\"#35ddf9\",\"#32dcf9\",\"#30dbfa\",\"#2ed9fa\",\"#2dd8fa\",\"#2cd7fa\",\"#2bd6fa\",\"#2bd5fa\",\"#2ad3fa\",\"#2ad2fa\",\"#29d1fa\",\"#29d0fb\",\"#29cffb\",\"#28cdfb\",\"#28ccfb\",\"#28cbfb\",\"#28cafb\",\"#28c8fb\",\"#28c7fb\",\"#29c6fb\",\"#29c5fb\",\"#29c4fb\",\"#29c2fb\",\"#2ac1fb\",\"#2ac0fb\",\"#2bbffb\",\"#2bbdfc\",\"#2cbcfc\",\"#2dbbfc\",\"#2db9fc\",\"#2eb8fc\",\"#2fb7fc\",\"#2fb6fc\",\"#30b4fc\",\"#31b3fc\",\"#32b2fc\",\"#32b0fc\",\"#33affc\",\"#33aefc\",\"#34adfc\",\"#34abfc\",\"#34aafc\",\"#35a9fc\",\"#35a8fc\",\"#35a6fc\",\"#35a5fc\",\"#35a4fc\",\"#35a3fc\",\"#35a1fc\",\"#35a0fc\",\"#359ffc\",\"#359dfc\",\"#359cfc\",\"#359bfc\",\"#349afd\",\"#3498fd\",\"#3497fd\",\"#3396fd\",\"#3395fd\",\"#3293fd\",\"#3292fd\",\"#3191fd\",\"#3090fd\",\"#308ffd\",\"#2f8dfd\",\"#2f8cfd\",\"#2e8bfd\",\"#2e8afd\",\"#2d88fd\",\"#2d87fd\",\"#2c86fd\",\"#2c84fd\",\"#2c83fd\",\"#2c82fd\",\"#2b81fd\",\"#2b7ffd\",\"#2b7efd\",\"#2b7dfd\",\"#2b7bfd\",\"#2b7afd\",\"#2b79fd\",\"#2b77fd\",\"#2b76fd\",\"#2b75fd\",\"#2b73fd\",\"#2c72fd\",\"#2c71fd\",\"#2c6ffd\",\"#2c6efd\",\"#2d6cfd\",\"#2d6bfd\",\"#2d6afc\",\"#2e68fc\",\"#2e67fc\",\"#2e65fc\",\"#2e64fc\",\"#2f62fc\",\"#2f61fc\",\"#2f5ffc\",\"#2f5efc\",\"#2f5dfc\",\"#2f5bfc\",\"#2f5afc\",\"#2f58fb\",\"#2f57fb\",\"#2f55fb\",\"#2f53fb\",\"#2f52fb\",\"#2f50fb\",\"#2f4ffb\",\"#2f4dfb\",\"#2e4cfb\",\"#2e4afb\",\"#2e48fb\",\"#2e47fa\",\"#2d45fa\",\"#2d43fa\",\"#2d42fa\",\"#2d40fa\",\"#2c3efa\",\"#2c3dfa\",\"#2b3bf9\",\"#2b39f9\",\"#2a37f9\",\"#2a36f8\",\"#2934f8\",\"#2832f7\",\"#2831f7\",\"#272ff6\",\"#262ef5\",\"#252cf5\",\"#252af4\",\"#2429f3\",\"#2327f2\",\"#2226f1\",\"#2124f0\",\"#2023ef\",\"#1f22ee\",\"#1e20ed\",\"#1d1feb\",\"#1c1eea\",\"#1b1ce9\",\"#1a1be7\",\"#181ae6\",\"#1719e5\",\"#1618e3\",\"#1417e1\",\"#1316e0\",\"#1215de\",\"#1014dc\",\"#0f13db\",\"#0e12d9\",\"#0d11d7\",\"#0c10d5\",\"#0b0fd3\",\"#0a0ed1\",\"#090dd0\",\"#080dce\",\"#080ccc\",\"#070bca\",\"#070ac8\",\"#0709c6\",\"#0708c4\",\"#0707c2\",\"#0707bf\",\"#0806bd\",\"#0806bb\",\"#0905b9\",\"#0904b7\",\"#0a04b5\",\"#0a04b2\",\"#0b03b0\",\"#0c03ae\",\"#0d02ab\",\"#0e02a9\",\"#0e02a7\",\"#0f02a4\",\"#0f01a2\",\"#1001a0\",\"#10019d\",\"#10019b\",\"#100199\",\"#100197\",\"#100194\",\"#0f0192\",\"#0f0190\",\"#0f018e\",\"#0e018b\",\"#0e0189\",\"#0d0187\",\"#0d0185\",\"#0c0183\",\"#0b0181\",\"#0b017e\",\"#0a017c\",\"#09017a\",\"#090178\",\"#080276\",\"#070274\",\"#060272\",\"#060270\",\"#05026e\",\"#04026c\",\"#030269\",\"#030267\",\"#020265\",\"#010263\",\"#010261\",\"#00025f\",\"#00025d\",\"#00025b\",\"#000259\",\"#000257\",\"#000255\",\"#000154\",\"#000152\",\"#000150\",\"#00004e\"]},\"id\":\"12138\",\"type\":\"LinearColorMapper\"},{\"attributes\":{\"coordinates\":null,\"data_source\":{\"id\":\"12139\"},\"glyph\":{\"id\":\"12142\"},\"group\":null,\"hover_glyph\":null,\"muted_glyph\":{\"id\":\"12144\"},\"nonselection_glyph\":{\"id\":\"12143\"},\"selection_glyph\":{\"id\":\"12149\"},\"view\":{\"id\":\"12146\"}},\"id\":\"12145\",\"type\":\"GlyphRenderer\"},{\"attributes\":{},\"id\":\"12154\",\"type\":\"BasicTickFormatter\"},{\"attributes\":{\"overlay\":{\"id\":\"12130\"}},\"id\":\"12128\",\"type\":\"BoxZoomTool\"},{\"attributes\":{},\"id\":\"12164\",\"type\":\"UnionRenderers\"},{\"attributes\":{\"end\":-114.47,\"reset_end\":-114.47,\"reset_start\":-124.35,\"start\":-124.35,\"tags\":[[[\"longitude\",\"longitude\",null]]]},\"id\":\"12105\",\"type\":\"Range1d\"},{\"attributes\":{},\"id\":\"12126\",\"type\":\"PanTool\"},{\"attributes\":{\"source\":{\"id\":\"12139\"}},\"id\":\"12146\",\"type\":\"CDSView\"},{\"attributes\":{\"aspect_scale\":0.9524291497975717,\"fill_color\":{\"field\":\"Count\",\"transform\":{\"id\":\"12138\"}},\"hatch_color\":{\"field\":\"Count\",\"transform\":{\"id\":\"12138\"}},\"line_color\":{\"field\":\"Count\",\"transform\":{\"id\":\"12138\"}},\"q\":{\"field\":\"q\"},\"r\":{\"field\":\"r\"},\"size\":0.1254666666666667},\"id\":\"12142\",\"type\":\"HexTile\"},{\"attributes\":{\"margin\":[5,5,5,5],\"name\":\"HSpacer26977\",\"sizing_mode\":\"stretch_width\"},\"id\":\"12167\",\"type\":\"Spacer\"},{\"attributes\":{},\"id\":\"12129\",\"type\":\"ResetTool\"},{\"attributes\":{},\"id\":\"12147\",\"type\":\"BasicTicker\"},{\"attributes\":{\"aspect_scale\":0.9524291497975717,\"fill_alpha\":{\"value\":1.0},\"fill_color\":{\"field\":\"Count\",\"transform\":{\"id\":\"12138\"}},\"hatch_alpha\":{\"value\":1.0},\"hatch_color\":{\"field\":\"Count\",\"transform\":{\"id\":\"12138\"}},\"hatch_scale\":{\"value\":12.0},\"hatch_weight\":{\"value\":1.0},\"line_alpha\":{\"value\":1.0},\"line_cap\":{\"value\":\"butt\"},\"line_color\":{\"field\":\"Count\",\"transform\":{\"id\":\"12138\"}},\"line_dash\":{\"value\":[]},\"line_dash_offset\":{\"value\":0},\"line_join\":{\"value\":\"bevel\"},\"line_width\":{\"value\":1},\"q\":{\"field\":\"q\"},\"r\":{\"field\":\"r\"},\"scale\":{\"value\":1.0},\"size\":0.1254666666666667},\"id\":\"12149\",\"type\":\"HexTile\"},{\"attributes\":{\"bottom_units\":\"screen\",\"coordinates\":null,\"fill_alpha\":0.5,\"fill_color\":\"lightgrey\",\"group\":null,\"left_units\":\"screen\",\"level\":\"overlay\",\"line_alpha\":1.0,\"line_color\":\"black\",\"line_dash\":[4,4],\"line_width\":2,\"right_units\":\"screen\",\"syncable\":false,\"top_units\":\"screen\"},\"id\":\"12130\",\"type\":\"BoxAnnotation\"},{\"attributes\":{},\"id\":\"12127\",\"type\":\"WheelZoomTool\"},{\"attributes\":{},\"id\":\"12152\",\"type\":\"AllLabels\"},{\"attributes\":{\"data\":{\"Count\":{\"__ndarray__\":\"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\",\"dtype\":\"int32\",\"order\":\"little\",\"shape\":[634]},\"q\":[-436,-428,-436,-428,-422,-427,-437,-434,-428,-427,-435,-427,-429,-423,-423,-424,-426,-426,-431,-427,-423,-428,-436,-430,-435,-424,-418,-436,-426,-435,-430,-429,-425,-426,-430,-435,-429,-436,-434,-429,-429,-427,-430,-429,-426,-426,-427,-433,-434,-433,-429,-428,-436,-430,-427,-427,-435,-425,-427,-426,-425,-435,-429,-429,-435,-436,-436,-410,-420,-435,-422,-427,-419,-419,-436,-426,-420,-431,-428,-434,-428,-427,-435,-425,-435,-422,-435,-437,-434,-422,-426,-427,-425,-436,-425,-420,-431,-436,-429,-426,-430,-422,-431,-427,-437,-435,-426,-434,-426,-437,-436,-425,-424,-428,-423,-419,-426,-429,-428,-432,-428,-436,-423,-427,-429,-425,-434,-428,-437,-426,-427,-431,-424,-429,-431,-427,-435,-431,-425,-430,-422,-428,-428,-421,-420,-423,-428,-429,-426,-429,-430,-428,-427,-423,-427,-427,-432,-427,-420,-434,-437,-432,-436,-430,-423,-436,-437,-428,-426,-435,-428,-425,-424,-428,-428,-429,-428,-425,-431,-429,-436,-425,-435,-430,-421,-437,-432,-420,-434,-435,-430,-426,-423,-424,-426,-435,-433,-434,-428,-426,-430,-426,-431,-422,-430,-422,-426,-426,-435,-437,-437,-432,-435,-430,-431,-421,-428,-420,-435,-420,-432,-426,-434,-429,-429,-434,-423,-436,-432,-421,-425,-427,-428,-425,-421,-426,-429,-433,-436,-428,-421,-425,-432,-421,-430,-430,-423,-434,-427,-427,-421,-437,-427,-434,-437,-428,-425,-433,-424,-425,-434,-430,-421,-430,-436,-426,-420,-430,-429,-428,-434,-429,-426,-425,-424,-428,-432,-425,-431,-437,-436,-427,-430,-421,-431,-426,-422,-434,-432,-424,-428,-426,-429,-438,-430,-435,-434,-423,-427,-427,-438,-429,-419,-433,-436,-425,-430,-425,-435,-426,-427,-426,-435,-421,-429,-423,-427,-433,-429,-429,-427,-423,-436,-425,-433,-434,-430,-435,-414,-425,-432,-431,-421,-429,-422,-420,-418,-424,-422,-430,-431,-418,-425,-424,-422,-417,-426,-431,-423,-431,-420,-421,-434,-425,-429,-436,-424,-438,-430,-420,-430,-429,-435,-432,-428,-439,-438,-421,-424,-436,-427,-425,-425,-430,-430,-423,-433,-424,-431,-438,-433,-412,-431,-430,-413,-430,-427,-427,-425,-419,-432,-414,-425,-431,-425,-428,-433,-436,-427,-434,-423,-433,-419,-420,-434,-423,-434,-437,-431,-435,-426,-428,-428,-414,-424,-433,-421,-433,-426,-413,-434,-435,-419,-434,-431,-421,-432,-436,-427,-423,-435,-428,-422,-425,-419,-422,-431,-425,-425,-427,-423,-420,-437,-419,-423,-432,-428,-434,-433,-429,-421,-432,-434,-425,-439,-430,-431,-423,-424,-418,-431,-432,-424,-438,-421,-429,-427,-437,-431,-418,-424,-424,-425,-429,-416,-425,-426,-433,-430,-435,-433,-437,-424,-432,-413,-425,-427,-428,-436,-433,-427,-423,-422,-427,-425,-430,-427,-417,-418,-433,-425,-434,-431,-422,-437,-432,-426,-421,-420,-422,-427,-427,-424,-433,-422,-426,-420,-422,-417,-433,-424,-432,-424,-424,-421,-433,-422,-427,-424,-423,-414,-432,-425,-429,-421,-428,-433,-430,-437,-428,-422,-423,-419,-429,-437,-436,-420,-419,-426,-426,-435,-424,-414,-436,-426,-431,-432,-423,-421,-430,-422,-436,-418,-438,-425,-438,-430,-425,-432,-418,-427,-416,-419,-427,-430,-431,-423,-423,-420,-424,-435,-432,-421,-422,-416,-436,-421,-436,-430,-423,-415,-422,-432,-435,-412,-425,-432,-426,-410,-418,-426,-430,-422,-421,-434,-423,-416,-424,-435,-430,-433,-433,-431,-436,-434,-417,-419,-434,-426,-423,-434,-418,-436,-431,-434,-437,-432,-420,-419,-438,-423,-425,-415,-433],\"r\":[-205,-181,-201,-188,-222,-181,-200,-202,-180,-201,-198,-192,-180,-196,-182,-179,-195,-180,-182,-179,-212,-179,-185,-205,-201,-181,-181,-200,-181,-202,-203,-181,-180,-179,-196,-199,-183,-204,-203,-179,-182,-180,-182,-205,-184,-174,-174,-202,-200,-183,-211,-195,-199,-200,-173,-195,-187,-197,-196,-175,-179,-200,-220,-198,-196,-188,-196,-185,-179,-186,-180,-194,-176,-175,-202,-192,-177,-202,-182,-205,-190,-182,-203,-175,-192,-209,-185,-199,-207,-184,-194,-178,-181,-208,-177,-174,-206,-198,-206,-193,-183,-183,-191,-202,-195,-194,-191,-204,-203,-205,-197,-176,-180,-217,-180,-174,-176,-214,-200,-181,-201,-195,-179,-177,-208,-209,-183,-196,-196,-202,-207,-200,-188,-200,-215,-188,-195,-201,-192,-181,-207,-216,-207,-181,-222,-181,-193,-189,-204,-203,-202,-209,-208,-218,-206,-211,-202,-191,-180,-201,-206,-204,-210,-188,-206,-184,-215,-198,-196,-205,-211,-210,-178,-206,-187,-215,-183,-174,-205,-216,-217,-199,-217,-177,-190,-194,-192,-198,-206,-204,-221,-177,-183,-214,-208,-188,-203,-211,-194,-200,-187,-219,-210,-182,-219,-181,-173,-209,-212,-210,-204,-183,-184,-195,-199,-196,-189,-215,-207,-186,-198,-199,-197,-199,-213,-209,-186,-194,-200,-189,-187,-219,-197,-201,-179,-182,-209,-192,-203,-191,-203,-178,-182,-182,-217,-204,-219,-196,-204,-212,-180,-201,-205,-214,-197,-210,-186,-201,-190,-203,-208,-184,-214,-201,-216,-201,-189,-199,-196,-203,-222,-202,-213,-185,-176,-192,-201,-194,-181,-202,-206,-199,-192,-216,-192,-206,-179,-189,-216,-186,-204,-223,-201,-210,-207,-193,-199,-194,-209,-210,-209,-197,-185,-204,-207,-190,-206,-206,-197,-205,-175,-187,-218,-185,-193,-184,-200,-214,-212,-207,-193,-176,-187,-198,-218,-188,-194,-206,-185,-183,-187,-184,-177,-195,-208,-195,-182,-217,-217,-198,-183,-177,-195,-182,-218,-222,-220,-198,-198,-196,-181,-210,-184,-205,-187,-186,-193,-199,-197,-185,-208,-210,-208,-199,-184,-207,-206,-183,-183,-189,-198,-184,-191,-189,-211,-207,-208,-184,-197,-205,-206,-180,-217,-179,-179,-209,-203,-190,-173,-181,-205,-187,-189,-203,-215,-199,-207,-193,-216,-220,-208,-190,-177,-183,-219,-213,-186,-193,-208,-189,-178,-205,-212,-178,-210,-222,-220,-205,-207,-180,-212,-215,-178,-182,-195,-200,-215,-209,-213,-187,-183,-178,-212,-193,-216,-176,-212,-218,-204,-214,-192,-178,-198,-182,-209,-220,-208,-190,-194,-204,-215,-206,-198,-220,-206,-210,-207,-174,-197,-176,-223,-207,-174,-214,-211,-188,-220,-213,-216,-175,-175,-187,-217,-192,-193,-216,-197,-216,-190,-209,-189,-203,-209,-203,-178,-222,-187,-219,-211,-223,-184,-178,-210,-197,-213,-212,-221,-188,-220,-191,-196,-218,-204,-175,-192,-196,-185,-213,-200,-211,-183,-186,-218,-217,-200,-183,-175,-206,-180,-199,-212,-218,-192,-177,-184,-200,-185,-218,-173,-202,-180,-208,-182,-185,-205,-215,-198,-185,-207,-213,-178,-215,-186,-194,-216,-214,-199,-200,-210,-222,-214,-200,-189,-215,-188,-211,-211,-197,-201,-222,-189,-191,-221,-208,-212,-202,-214,-221,-209,-185,-215,-176,-221,-222,-191,-209,-211,-205,-214,-213,-191,-197,-186,-190,-178,-212,-174,-213,-215,-214,-174,-188,-210,-190,-184,-211,-185,-190,-183,-174,-217,-186,-214,-187,-185,-221,-174,-194,-216,-216,-197,-221,-194,-192,-216,-182,-180,-195,-216,-175,-213,-183,-183,-193,-193,-208,-217,-176,-196,-192,-223,-200,-182,-195]},\"selected\":{\"id\":\"12140\"},\"selection_policy\":{\"id\":\"12164\"}},\"id\":\"12139\",\"type\":\"ColumnDataSource\"},{\"attributes\":{},\"id\":\"12113\",\"type\":\"LinearScale\"},{\"attributes\":{\"aspect_scale\":0.9524291497975717,\"fill_alpha\":{\"value\":0.1},\"fill_color\":{\"field\":\"Count\",\"transform\":{\"id\":\"12138\"}},\"hatch_alpha\":{\"value\":0.1},\"hatch_color\":{\"field\":\"Count\",\"transform\":{\"id\":\"12138\"}},\"line_alpha\":{\"value\":0.1},\"line_color\":{\"field\":\"Count\",\"transform\":{\"id\":\"12138\"}},\"q\":{\"field\":\"q\"},\"r\":{\"field\":\"r\"},\"size\":0.1254666666666667},\"id\":\"12143\",\"type\":\"HexTile\"},{\"attributes\":{\"axis_label\":\"latitude\",\"coordinates\":null,\"formatter\":{\"id\":\"12154\"},\"group\":null,\"major_label_policy\":{\"id\":\"12155\"},\"ticker\":{\"id\":\"12122\"}},\"id\":\"12121\",\"type\":\"LinearAxis\"},{\"attributes\":{\"callback\":null,\"renderers\":[{\"id\":\"12145\"}],\"tags\":[\"hv_created\"],\"tooltips\":[[\"Count\",\"@{Count}\"]]},\"id\":\"12107\",\"type\":\"HoverTool\"},{\"attributes\":{\"end\":42.891000000000005,\"reset_end\":42.891000000000005,\"reset_start\":31.599,\"start\":31.599,\"tags\":[[[\"latitude\",\"latitude\",null]]]},\"id\":\"12106\",\"type\":\"Range1d\"},{\"attributes\":{\"axis_label\":\"longitude\",\"coordinates\":null,\"formatter\":{\"id\":\"12151\"},\"group\":null,\"major_label_policy\":{\"id\":\"12152\"},\"ticker\":{\"id\":\"12118\"}},\"id\":\"12117\",\"type\":\"LinearAxis\"},{\"attributes\":{\"tools\":[{\"id\":\"12107\"},{\"id\":\"12125\"},{\"id\":\"12126\"},{\"id\":\"12127\"},{\"id\":\"12128\"},{\"id\":\"12129\"}]},\"id\":\"12131\",\"type\":\"Toolbar\"},{\"attributes\":{\"children\":[{\"id\":\"12104\"},{\"id\":\"12108\"},{\"id\":\"12167\"}],\"margin\":[0,0,0,0],\"name\":\"Row26972\",\"tags\":[\"embedded\"]},\"id\":\"12103\",\"type\":\"Row\"},{\"attributes\":{\"axis\":{\"id\":\"12117\"},\"coordinates\":null,\"grid_line_color\":null,\"group\":null,\"ticker\":null},\"id\":\"12120\",\"type\":\"Grid\"},{\"attributes\":{\"axis\":{\"id\":\"12121\"},\"coordinates\":null,\"dimension\":1,\"grid_line_color\":null,\"group\":null,\"ticker\":null},\"id\":\"12124\",\"type\":\"Grid\"},{\"attributes\":{},\"id\":\"12115\",\"type\":\"LinearScale\"},{\"attributes\":{\"margin\":[5,5,5,5],\"name\":\"HSpacer26976\",\"sizing_mode\":\"stretch_width\"},\"id\":\"12104\",\"type\":\"Spacer\"},{\"attributes\":{},\"id\":\"12125\",\"type\":\"SaveTool\"},{\"attributes\":{\"bar_line_color\":\"black\",\"color_mapper\":{\"id\":\"12138\"},\"coordinates\":null,\"group\":null,\"label_standoff\":8,\"location\":[0,0],\"major_label_policy\":{\"id\":\"12160\"},\"major_tick_line_color\":\"black\",\"ticker\":{\"id\":\"12147\"}},\"id\":\"12148\",\"type\":\"ColorBar\"},{\"attributes\":{},\"id\":\"12151\",\"type\":\"BasicTickFormatter\"},{\"attributes\":{},\"id\":\"12140\",\"type\":\"Selection\"},{\"attributes\":{},\"id\":\"12122\",\"type\":\"BasicTicker\"},{\"attributes\":{\"coordinates\":null,\"group\":null,\"text\":\"Correlation: -0.925\",\"text_color\":\"black\",\"text_font_size\":\"12pt\"},\"id\":\"12109\",\"type\":\"Title\"},{\"attributes\":{\"below\":[{\"id\":\"12117\"}],\"center\":[{\"id\":\"12120\"},{\"id\":\"12124\"}],\"height\":300,\"left\":[{\"id\":\"12121\"}],\"margin\":[5,5,5,5],\"min_border_bottom\":10,\"min_border_left\":10,\"min_border_right\":10,\"min_border_top\":10,\"renderers\":[{\"id\":\"12145\"}],\"right\":[{\"id\":\"12148\"}],\"sizing_mode\":\"fixed\",\"title\":{\"id\":\"12109\"},\"toolbar\":{\"id\":\"12131\"},\"x_range\":{\"id\":\"12105\"},\"x_scale\":{\"id\":\"12113\"},\"y_range\":{\"id\":\"12106\"},\"y_scale\":{\"id\":\"12115\"}},\"id\":\"12108\",\"subtype\":\"Figure\",\"type\":\"Plot\"},{\"attributes\":{},\"id\":\"12118\",\"type\":\"BasicTicker\"}],\"root_ids\":[\"12103\"]},\"title\":\"Bokeh Application\",\"version\":\"2.4.3\"}};\n",
       "    var render_items = [{\"docid\":\"e9a46dd0-b3d6-4181-85ea-730bdf2b77ef\",\"root_ids\":[\"12103\"],\"roots\":{\"12103\":\"8dfd687a-3845-430a-944f-1b679cddd262\"}}];\n",
       "    root.Bokeh.embed.embed_items_notebook(docs_json, render_items);\n",
       "  }\n",
       "  if (root.Bokeh !== undefined && root.Bokeh.Panel !== undefined) {\n",
       "    embed_document(root);\n",
       "  } else {\n",
       "    var attempts = 0;\n",
       "    var timer = setInterval(function(root) {\n",
       "      if (root.Bokeh !== undefined && root.Bokeh.Panel !== undefined) {\n",
       "        clearInterval(timer);\n",
       "        embed_document(root);\n",
       "      } else if (document.readyState == \"complete\") {\n",
       "        attempts++;\n",
       "        if (attempts > 200) {\n",
       "          clearInterval(timer);\n",
       "          console.log(\"Bokeh: ERROR: Unable to run BokehJS code because BokehJS library is missing\");\n",
       "        }\n",
       "      }\n",
       "    }, 25, root)\n",
       "  }\n",
       "})(window);</script>"
      ],
      "text/plain": [
       ":HexTiles   [longitude,latitude]"
      ]
     },
     "execution_count": 24,
     "metadata": {
      "application/vnd.holoviews_exec.v0+json": {
       "id": "12103"
      }
     },
     "output_type": "execute_result"
    }
   ],
   "source": [
    "out = eda.get_bivariate_plots(train_X, x_cols=['longitude'], y_cols=['latitude'])\n",
    "out"
   ]
  },
  {
   "cell_type": "code",
   "execution_count": 25,
   "metadata": {},
   "outputs": [],
   "source": [
    "curated_columns = train_X.columns.to_list() "
   ]
  },
  {
   "cell_type": "code",
   "execution_count": 26,
   "metadata": {},
   "outputs": [
    {
     "name": "stdout",
     "output_type": "stream",
     "text": [
      "CPU times: total: 5.14 s\n",
      "Wall time: 7.97 s\n"
     ]
    }
   ],
   "source": [
    "%%time\n",
    "# create reports as needed\n",
    "cols = train_X.columns.to_list()\n",
    "all_plots = {}\n",
    "for ii, col1 in enumerate(cols): \n",
    "    for jj in range(ii+1, len(cols)):\n",
    "        col2 = cols[jj]\n",
    "        out = eda.get_bivariate_plots(train_X, x_cols=[col1], y_cols=[col2])\n",
    "        all_plots.update({f'{col2} vs {col1}': out})\n",
    "\n",
    "reports.create_report(all_plots, name='feature_analysis_bivariate')"
   ]
  },
  {
   "cell_type": "markdown",
   "metadata": {},
   "source": [
    "A report containing the bivariate plot is available [here](https://drive.google.com/file/d/1S3JXE1TTwuALugqL5I4zsRpjYy9vIXZy/view?usp=sharing)\n",
    "\n",
    "Alternatively, the above plots can be generated as a single html as below. The output from this is available [here](https://drive.google.com/file/d/12o2Q7O6q2Zck0cHBQ36WDeWuy7b4athM/view?usp=sharing)"
   ]
  },
  {
   "cell_type": "code",
   "execution_count": 27,
   "metadata": {},
   "outputs": [],
   "source": [
    "reports.feature_interactions(train_X,'./feature_interaction_report.html')"
   ]
  },
  {
   "cell_type": "markdown",
   "metadata": {},
   "source": [
    "### 3.2.3 Key Drivers - Interaction with Target variable"
   ]
  },
  {
   "cell_type": "code",
   "execution_count": 28,
   "metadata": {},
   "outputs": [
    {
     "data": {},
     "metadata": {},
     "output_type": "display_data"
    },
    {
     "data": {},
     "metadata": {},
     "output_type": "display_data"
    },
    {
     "data": {
      "application/vnd.holoviews_exec.v0+json": "",
      "text/html": [
       "<div id='21328'>\n",
       "  <div class=\"bk-root\" id=\"a6d4a006-dae2-4b85-b690-522de94549d5\" data-root-id=\"21328\"></div>\n",
       "</div>\n",
       "<script type=\"application/javascript\">(function(root) {\n",
       "  function embed_document(root) {\n",
       "    var docs_json = {\"ab6b7f74-13e6-42e2-8c4e-17d8120c0deb\":{\"defs\":[{\"extends\":null,\"module\":null,\"name\":\"ReactiveHTML1\",\"overrides\":[],\"properties\":[]},{\"extends\":null,\"module\":null,\"name\":\"FlexBox1\",\"overrides\":[],\"properties\":[{\"default\":\"flex-start\",\"kind\":null,\"name\":\"align_content\"},{\"default\":\"flex-start\",\"kind\":null,\"name\":\"align_items\"},{\"default\":\"row\",\"kind\":null,\"name\":\"flex_direction\"},{\"default\":\"wrap\",\"kind\":null,\"name\":\"flex_wrap\"},{\"default\":\"flex-start\",\"kind\":null,\"name\":\"justify_content\"}]},{\"extends\":null,\"module\":null,\"name\":\"GridStack1\",\"overrides\":[],\"properties\":[{\"default\":\"warn\",\"kind\":null,\"name\":\"mode\"},{\"default\":null,\"kind\":null,\"name\":\"ncols\"},{\"default\":null,\"kind\":null,\"name\":\"nrows\"},{\"default\":true,\"kind\":null,\"name\":\"allow_resize\"},{\"default\":true,\"kind\":null,\"name\":\"allow_drag\"},{\"default\":[],\"kind\":null,\"name\":\"state\"}]},{\"extends\":null,\"module\":null,\"name\":\"click1\",\"overrides\":[],\"properties\":[{\"default\":\"\",\"kind\":null,\"name\":\"terminal_output\"},{\"default\":\"\",\"kind\":null,\"name\":\"debug_name\"},{\"default\":0,\"kind\":null,\"name\":\"clears\"}]},{\"extends\":null,\"module\":null,\"name\":\"NotificationAreaBase1\",\"overrides\":[],\"properties\":[{\"default\":\"bottom-right\",\"kind\":null,\"name\":\"position\"},{\"default\":0,\"kind\":null,\"name\":\"_clear\"}]},{\"extends\":null,\"module\":null,\"name\":\"NotificationArea1\",\"overrides\":[],\"properties\":[{\"default\":[],\"kind\":null,\"name\":\"notifications\"},{\"default\":\"bottom-right\",\"kind\":null,\"name\":\"position\"},{\"default\":0,\"kind\":null,\"name\":\"_clear\"},{\"default\":[{\"background\":\"#ffc107\",\"icon\":{\"className\":\"fas fa-exclamation-triangle\",\"color\":\"white\",\"tagName\":\"i\"},\"type\":\"warning\"},{\"background\":\"#007bff\",\"icon\":{\"className\":\"fas fa-info-circle\",\"color\":\"white\",\"tagName\":\"i\"},\"type\":\"info\"}],\"kind\":null,\"name\":\"types\"}]},{\"extends\":null,\"module\":null,\"name\":\"Notification\",\"overrides\":[],\"properties\":[{\"default\":null,\"kind\":null,\"name\":\"background\"},{\"default\":3000,\"kind\":null,\"name\":\"duration\"},{\"default\":null,\"kind\":null,\"name\":\"icon\"},{\"default\":\"\",\"kind\":null,\"name\":\"message\"},{\"default\":null,\"kind\":null,\"name\":\"notification_type\"},{\"default\":false,\"kind\":null,\"name\":\"_destroyed\"}]},{\"extends\":null,\"module\":null,\"name\":\"TemplateActions1\",\"overrides\":[],\"properties\":[{\"default\":0,\"kind\":null,\"name\":\"open_modal\"},{\"default\":0,\"kind\":null,\"name\":\"close_modal\"}]},{\"extends\":null,\"module\":null,\"name\":\"MaterialTemplateActions1\",\"overrides\":[],\"properties\":[{\"default\":0,\"kind\":null,\"name\":\"open_modal\"},{\"default\":0,\"kind\":null,\"name\":\"close_modal\"}]}],\"roots\":{\"references\":[{\"attributes\":{\"margin\":[0,0,0,0],\"tabs\":[{\"id\":\"21386\"}]},\"id\":\"21328\",\"type\":\"panel.models.tabs.Tabs\"},{\"attributes\":{\"fill_alpha\":{\"value\":1.0},\"fill_color\":{\"value\":\"#30a2da\"},\"hatch_alpha\":{\"value\":1.0},\"hatch_color\":{\"value\":\"#30a2da\"},\"hatch_scale\":{\"value\":12.0},\"hatch_weight\":{\"value\":1.0},\"height\":{\"value\":0.8},\"left\":{\"value\":0},\"line_alpha\":{\"value\":1.0},\"line_cap\":{\"value\":\"butt\"},\"line_color\":{\"value\":\"black\"},\"line_dash\":{\"value\":[]},\"line_dash_offset\":{\"value\":0},\"line_join\":{\"value\":\"bevel\"},\"line_width\":{\"value\":1},\"right\":{\"field\":\"Pearson_correlation_with_Target\"},\"y\":{\"field\":\"index\"}},\"id\":\"21369\",\"type\":\"HBar\"},{\"attributes\":{},\"id\":\"21346\",\"type\":\"CategoricalTicker\"},{\"attributes\":{},\"id\":\"21383\",\"type\":\"UnionRenderers\"},{\"attributes\":{\"overlay\":{\"id\":\"21353\"}},\"id\":\"21351\",\"type\":\"BoxZoomTool\"},{\"attributes\":{\"fill_alpha\":{\"value\":0.2},\"fill_color\":{\"value\":\"#30a2da\"},\"hatch_alpha\":{\"value\":0.2},\"hatch_color\":{\"value\":\"#30a2da\"},\"height\":{\"value\":0.8},\"line_alpha\":{\"value\":0.2},\"right\":{\"field\":\"Pearson_correlation_with_Target\"},\"y\":{\"field\":\"index\"}},\"id\":\"21366\",\"type\":\"HBar\"},{\"attributes\":{},\"id\":\"21348\",\"type\":\"SaveTool\"},{\"attributes\":{},\"id\":\"21371\",\"type\":\"BasicTickFormatter\"},{\"attributes\":{\"coordinates\":null,\"data_source\":{\"id\":\"21361\"},\"glyph\":{\"id\":\"21364\"},\"group\":null,\"hover_glyph\":null,\"muted_glyph\":{\"id\":\"21366\"},\"nonselection_glyph\":{\"id\":\"21365\"},\"selection_glyph\":{\"id\":\"21369\"},\"view\":{\"id\":\"21368\"}},\"id\":\"21367\",\"type\":\"GlyphRenderer\"},{\"attributes\":{},\"id\":\"21352\",\"type\":\"ResetTool\"},{\"attributes\":{\"data\":{\"Pearson_correlation_with_Target\":{\"__ndarray__\":\"NuoxIy6owr8CmwByrfylvyAMKvUuo52/wExTXjzFrT+5hpKMS2OzP2AVCwEzc7s/mKAE+tURxD9qd1M5iA7fP8Kk53QeruQ/lBSXsRVT5j8=\",\"dtype\":\"float64\",\"order\":\"little\",\"shape\":[10]},\"index\":[\"latitude\",\"longitude\",\"population\",\"total_bedrooms\",\"households\",\"housing_median_age\",\"total_rooms\",\"ocean_proximity\",\"income_cat\",\"median_income\"]},\"selected\":{\"id\":\"21362\"},\"selection_policy\":{\"id\":\"21383\"}},\"id\":\"21361\",\"type\":\"ColumnDataSource\"},{\"attributes\":{},\"id\":\"21374\",\"type\":\"CategoricalTickFormatter\"},{\"attributes\":{},\"id\":\"21362\",\"type\":\"Selection\"},{\"attributes\":{},\"id\":\"21342\",\"type\":\"BasicTicker\"},{\"attributes\":{\"axis_label\":\"\",\"coordinates\":null,\"formatter\":{\"id\":\"21374\"},\"group\":null,\"major_label_policy\":{\"id\":\"21375\"},\"ticker\":{\"id\":\"21346\"}},\"id\":\"21345\",\"type\":\"CategoricalAxis\"},{\"attributes\":{\"axis_label\":\"Pearson_correlation_with_Target\",\"coordinates\":null,\"formatter\":{\"id\":\"21371\"},\"group\":null,\"major_label_policy\":{\"id\":\"21372\"},\"ticker\":{\"id\":\"21342\"}},\"id\":\"21341\",\"type\":\"LinearAxis\"},{\"attributes\":{\"axis\":{\"id\":\"21341\"},\"coordinates\":null,\"grid_line_color\":null,\"group\":null,\"ticker\":null},\"id\":\"21344\",\"type\":\"Grid\"},{\"attributes\":{\"end\":0.7819821436499209,\"reset_end\":0.7819821436499209,\"reset_start\":-0.23009741648591175,\"start\":-0.23009741648591175,\"tags\":[[[\"Pearson_correlation_with_Target\",\"Pearson_correlation_with_Target\",null]]]},\"id\":\"21329\",\"type\":\"Range1d\"},{\"attributes\":{},\"id\":\"21349\",\"type\":\"PanTool\"},{\"attributes\":{},\"id\":\"21372\",\"type\":\"AllLabels\"},{\"attributes\":{\"factors\":[\"latitude\",\"longitude\",\"population\",\"total_bedrooms\",\"households\",\"housing_median_age\",\"total_rooms\",\"ocean_proximity\",\"income_cat\",\"median_income\"],\"tags\":[[[\"index\",\"index\",null]]]},\"id\":\"21330\",\"type\":\"FactorRange\"},{\"attributes\":{\"source\":{\"id\":\"21361\"}},\"id\":\"21368\",\"type\":\"CDSView\"},{\"attributes\":{\"coordinates\":null,\"group\":null,\"text\":\"Feature Correlation with Target Function\",\"text_color\":\"black\",\"text_font_size\":\"12pt\"},\"id\":\"21333\",\"type\":\"Title\"},{\"attributes\":{\"tools\":[{\"id\":\"21331\"},{\"id\":\"21348\"},{\"id\":\"21349\"},{\"id\":\"21350\"},{\"id\":\"21351\"},{\"id\":\"21352\"}]},\"id\":\"21354\",\"type\":\"Toolbar\"},{\"attributes\":{},\"id\":\"21350\",\"type\":\"WheelZoomTool\"},{\"attributes\":{\"axis\":{\"id\":\"21345\"},\"coordinates\":null,\"dimension\":1,\"grid_line_color\":null,\"group\":null,\"ticker\":null},\"id\":\"21347\",\"type\":\"Grid\"},{\"attributes\":{},\"id\":\"21339\",\"type\":\"CategoricalScale\"},{\"attributes\":{\"below\":[{\"id\":\"21341\"}],\"center\":[{\"id\":\"21344\"},{\"id\":\"21347\"}],\"height\":300,\"left\":[{\"id\":\"21345\"}],\"margin\":[5,5,5,5],\"min_border_bottom\":10,\"min_border_left\":10,\"min_border_right\":10,\"min_border_top\":10,\"renderers\":[{\"id\":\"21367\"}],\"sizing_mode\":\"fixed\",\"title\":{\"id\":\"21333\"},\"toolbar\":{\"id\":\"21354\"},\"width\":700,\"x_range\":{\"id\":\"21329\"},\"x_scale\":{\"id\":\"21337\"},\"y_range\":{\"id\":\"21330\"},\"y_scale\":{\"id\":\"21339\"}},\"id\":\"21332\",\"subtype\":\"Figure\",\"type\":\"Plot\"},{\"attributes\":{\"fill_alpha\":{\"value\":0.1},\"fill_color\":{\"value\":\"#30a2da\"},\"hatch_alpha\":{\"value\":0.1},\"hatch_color\":{\"value\":\"#30a2da\"},\"height\":{\"value\":0.8},\"line_alpha\":{\"value\":0.1},\"right\":{\"field\":\"Pearson_correlation_with_Target\"},\"y\":{\"field\":\"index\"}},\"id\":\"21365\",\"type\":\"HBar\"},{\"attributes\":{\"callback\":null,\"renderers\":[{\"id\":\"21367\"}],\"tags\":[\"hv_created\"],\"tooltips\":[[\"index\",\"@{index}\"],[\"Pearson_correlation_with_Target\",\"@{Pearson_correlation_with_Target}\"]]},\"id\":\"21331\",\"type\":\"HoverTool\"},{\"attributes\":{\"child\":{\"id\":\"21332\"},\"name\":\"feature_correlation\",\"title\":\"feature_correlation\"},\"id\":\"21386\",\"type\":\"Panel\"},{\"attributes\":{\"bottom_units\":\"screen\",\"coordinates\":null,\"fill_alpha\":0.5,\"fill_color\":\"lightgrey\",\"group\":null,\"left_units\":\"screen\",\"level\":\"overlay\",\"line_alpha\":1.0,\"line_color\":\"black\",\"line_dash\":[4,4],\"line_width\":2,\"right_units\":\"screen\",\"syncable\":false,\"top_units\":\"screen\"},\"id\":\"21353\",\"type\":\"BoxAnnotation\"},{\"attributes\":{\"fill_color\":{\"value\":\"#30a2da\"},\"hatch_color\":{\"value\":\"#30a2da\"},\"height\":{\"value\":0.8},\"right\":{\"field\":\"Pearson_correlation_with_Target\"},\"y\":{\"field\":\"index\"}},\"id\":\"21364\",\"type\":\"HBar\"},{\"attributes\":{},\"id\":\"21337\",\"type\":\"LinearScale\"},{\"attributes\":{},\"id\":\"21375\",\"type\":\"AllLabels\"},{\"attributes\":{\"client_comm_id\":\"0e1961c262c343c8bae51127b92f3d3b\",\"comm_id\":\"51746a87c0e94f03808f541af28d7ecb\",\"plot_id\":\"21328\"},\"id\":\"21417\",\"type\":\"panel.models.comm_manager.CommManager\"}],\"root_ids\":[\"21328\",\"21417\"]},\"title\":\"Bokeh Application\",\"version\":\"2.4.3\"}};\n",
       "    var render_items = [{\"docid\":\"ab6b7f74-13e6-42e2-8c4e-17d8120c0deb\",\"root_ids\":[\"21328\"],\"roots\":{\"21328\":\"a6d4a006-dae2-4b85-b690-522de94549d5\"}}];\n",
       "    root.Bokeh.embed.embed_items_notebook(docs_json, render_items);\n",
       "  }\n",
       "  if (root.Bokeh !== undefined && root.Bokeh.Panel !== undefined) {\n",
       "    embed_document(root);\n",
       "  } else {\n",
       "    var attempts = 0;\n",
       "    var timer = setInterval(function(root) {\n",
       "      if (root.Bokeh !== undefined && root.Bokeh.Panel !== undefined) {\n",
       "        clearInterval(timer);\n",
       "        embed_document(root);\n",
       "      } else if (document.readyState == \"complete\") {\n",
       "        attempts++;\n",
       "        if (attempts > 200) {\n",
       "          clearInterval(timer);\n",
       "          console.log(\"Bokeh: ERROR: Unable to run BokehJS code because BokehJS library is missing\");\n",
       "        }\n",
       "      }\n",
       "    }, 25, root)\n",
       "  }\n",
       "})(window);</script>"
      ],
      "text/plain": [
       "Tabs\n",
       "    [0] HoloViews(Bars, name='feature_correlation')"
      ]
     },
     "execution_count": 28,
     "metadata": {
      "application/vnd.holoviews_exec.v0+json": {
       "id": "21328"
      }
     },
     "output_type": "execute_result"
    }
   ],
   "source": [
    "out = eda.get_target_correlation(train_X, train_y)\n",
    "display_as_tabs([(k, v) for k,v in out.items()])"
   ]
  },
  {
   "cell_type": "markdown",
   "metadata": {},
   "source": [
    "Key drivers report like feature importance, bivariate plots can be obtained as below"
   ]
  },
  {
   "cell_type": "markdown",
   "metadata": {},
   "source": [
    "**Dev Notes**\n",
    "<details>\n",
    "    \n",
    "- The SHAP plots and bivariate plots in key drivers reports can be obtained by including quick=False as a parameter to key_drivers function call. \n",
    "- SHAP plots and bivariate plots often take long depending on data shape.\n",
    "- The plot with shap is present [here](https://drive.google.com/file/d/1JOTMBLiv3LEqZ-kxZz0RokW9v5UyiGva/view?usp=sharing)\n",
    "\n",
    "</details>"
   ]
  },
  {
   "cell_type": "markdown",
   "metadata": {},
   "source": [
    "\n",
    "All the plots like feature analysis, interaction, key drivers can be obtained as a single plot using data exploration method as shown below. The output from this is available [here](https://drive.google.com/file/d/1_3rE5u3qFHdeoL3VrFNTG-aBtHFALnI7/view?usp=sharing)"
   ]
  },
  {
   "cell_type": "code",
   "execution_count": 29,
   "metadata": {},
   "outputs": [],
   "source": [
    "# saving the list of relevant columns\n",
    "save_pipeline(curated_columns, op.abspath(op.join(artifacts_folder, 'curated_columns.joblib')))\n",
    "\n",
    "# save the feature pipeline\n",
    "save_pipeline(features_transformer, op.abspath(op.join(artifacts_folder, 'features.joblib')))"
   ]
  },
  {
   "cell_type": "markdown",
   "metadata": {},
   "source": [
    "# 4 Modelling"
   ]
  },
  {
   "cell_type": "markdown",
   "metadata": {},
   "source": [
    "## 4.1 Modelling - Linear Regression"
   ]
  },
  {
   "cell_type": "markdown",
   "metadata": {},
   "source": [
    "### 4.1.1 Feature Selection(Specific to Regression)\n",
    "\n",
    "- Selecting Features specific to regression\n",
    "- VIF : measure of the amount of multi-collinearity in a set of multiple regressor variables. \n",
    "- On a case to case basis VIF thresholds change. Generally 5 or 10 are acceptable levels.\n",
    "- Usually on a recursive basis when removing the most collinear variable, there can be shuffle in VIF. \n",
    "- Often this section will not be part of the production code."
   ]
  },
  {
   "cell_type": "code",
   "execution_count": 30,
   "metadata": {},
   "outputs": [],
   "source": [
    "cols = list(train_X.columns)\n",
    "vif = eda.calc_vif(train_X)\n",
    "while max(vif.VIF) > 15:\n",
    "    #removing the largest variable from VIF\n",
    "    cols.remove(vif[(vif.VIF==vif.VIF.max())].variables.tolist()[0])\n",
    "    vif = eda.calc_vif(train_X[cols])"
   ]
  },
  {
   "cell_type": "code",
   "execution_count": 31,
   "metadata": {},
   "outputs": [],
   "source": [
    "reg_vars = vif.query('VIF < 15').variables\n",
    "reg_vars = list(reg_vars)"
   ]
  },
  {
   "cell_type": "markdown",
   "metadata": {},
   "source": [
    "### 4.1.2 Data transformations"
   ]
  },
  {
   "cell_type": "code",
   "execution_count": 32,
   "metadata": {},
   "outputs": [],
   "source": [
    "# Custom Transformations like these can be utilised\n",
    "def _custom_data_transform(df, cols2keep=None):\n",
    "    \"\"\"Transformation to drop some columns in the data\n",
    "    \n",
    "    Parameters\n",
    "    ----------\n",
    "        df - pd.DataFrame\n",
    "        cols2keep - columns to keep in the dataframe\n",
    "    \"\"\"\n",
    "    cols2keep = cols2keep or []\n",
    "    if len(cols2keep):\n",
    "        return (df\n",
    "                .select_columns(cols2keep))\n",
    "    else:\n",
    "        return df"
   ]
  },
  {
   "cell_type": "markdown",
   "metadata": {},
   "source": [
    "### 4.1.3 Model training pipeline\n",
    "\n",
    "- Here we focus on creating a collection of pipelines that can be used for training respective models.\n",
    "- Each model pipeline will essentially be of the form\n",
    "```\n",
    "[\n",
    "('preprocessing', preprocessing_pipeline),\n",
    "('feature_selection', feature_selection_pipeline),\n",
    "('estimator', estimator),\n",
    "]\n",
    "```"
   ]
  },
  {
   "cell_type": "markdown",
   "metadata": {},
   "source": [
    "### 4.1.4 Model Pipeline Build\n",
    "\n",
    "- This will be part of the production code (training only)."
   ]
  },
  {
   "cell_type": "code",
   "execution_count": 33,
   "metadata": {},
   "outputs": [
    {
     "data": {
      "text/html": [
       "<style>#sk-container-id-1 {color: black;background-color: white;}#sk-container-id-1 pre{padding: 0;}#sk-container-id-1 div.sk-toggleable {background-color: white;}#sk-container-id-1 label.sk-toggleable__label {cursor: pointer;display: block;width: 100%;margin-bottom: 0;padding: 0.3em;box-sizing: border-box;text-align: center;}#sk-container-id-1 label.sk-toggleable__label-arrow:before {content: \"▸\";float: left;margin-right: 0.25em;color: #696969;}#sk-container-id-1 label.sk-toggleable__label-arrow:hover:before {color: black;}#sk-container-id-1 div.sk-estimator:hover label.sk-toggleable__label-arrow:before {color: black;}#sk-container-id-1 div.sk-toggleable__content {max-height: 0;max-width: 0;overflow: hidden;text-align: left;background-color: #f0f8ff;}#sk-container-id-1 div.sk-toggleable__content pre {margin: 0.2em;color: black;border-radius: 0.25em;background-color: #f0f8ff;}#sk-container-id-1 input.sk-toggleable__control:checked~div.sk-toggleable__content {max-height: 200px;max-width: 100%;overflow: auto;}#sk-container-id-1 input.sk-toggleable__control:checked~label.sk-toggleable__label-arrow:before {content: \"▾\";}#sk-container-id-1 div.sk-estimator input.sk-toggleable__control:checked~label.sk-toggleable__label {background-color: #d4ebff;}#sk-container-id-1 div.sk-label input.sk-toggleable__control:checked~label.sk-toggleable__label {background-color: #d4ebff;}#sk-container-id-1 input.sk-hidden--visually {border: 0;clip: rect(1px 1px 1px 1px);clip: rect(1px, 1px, 1px, 1px);height: 1px;margin: -1px;overflow: hidden;padding: 0;position: absolute;width: 1px;}#sk-container-id-1 div.sk-estimator {font-family: monospace;background-color: #f0f8ff;border: 1px dotted black;border-radius: 0.25em;box-sizing: border-box;margin-bottom: 0.5em;}#sk-container-id-1 div.sk-estimator:hover {background-color: #d4ebff;}#sk-container-id-1 div.sk-parallel-item::after {content: \"\";width: 100%;border-bottom: 1px solid gray;flex-grow: 1;}#sk-container-id-1 div.sk-label:hover label.sk-toggleable__label {background-color: #d4ebff;}#sk-container-id-1 div.sk-serial::before {content: \"\";position: absolute;border-left: 1px solid gray;box-sizing: border-box;top: 0;bottom: 0;left: 50%;z-index: 0;}#sk-container-id-1 div.sk-serial {display: flex;flex-direction: column;align-items: center;background-color: white;padding-right: 0.2em;padding-left: 0.2em;position: relative;}#sk-container-id-1 div.sk-item {position: relative;z-index: 1;}#sk-container-id-1 div.sk-parallel {display: flex;align-items: stretch;justify-content: center;background-color: white;position: relative;}#sk-container-id-1 div.sk-item::before, #sk-container-id-1 div.sk-parallel-item::before {content: \"\";position: absolute;border-left: 1px solid gray;box-sizing: border-box;top: 0;bottom: 0;left: 50%;z-index: -1;}#sk-container-id-1 div.sk-parallel-item {display: flex;flex-direction: column;z-index: 1;position: relative;background-color: white;}#sk-container-id-1 div.sk-parallel-item:first-child::after {align-self: flex-end;width: 50%;}#sk-container-id-1 div.sk-parallel-item:last-child::after {align-self: flex-start;width: 50%;}#sk-container-id-1 div.sk-parallel-item:only-child::after {width: 0;}#sk-container-id-1 div.sk-dashed-wrapped {border: 1px dashed gray;margin: 0 0.4em 0.5em 0.4em;box-sizing: border-box;padding-bottom: 0.4em;background-color: white;}#sk-container-id-1 div.sk-label label {font-family: monospace;font-weight: bold;display: inline-block;line-height: 1.2em;}#sk-container-id-1 div.sk-label-container {text-align: center;}#sk-container-id-1 div.sk-container {/* jupyter's `normalize.less` sets `[hidden] { display: none; }` but bootstrap.min.css set `[hidden] { display: none !important; }` so we also need the `!important` here to be able to override the default hidden behavior on the sphinx rendered scikit-learn.org. See: https://github.com/scikit-learn/scikit-learn/issues/21755 */display: inline-block !important;position: relative;}#sk-container-id-1 div.sk-text-repr-fallback {display: none;}</style><div id=\"sk-container-id-1\" class=\"sk-top-container\"><div class=\"sk-text-repr-fallback\"><pre>Pipeline(steps=[(&#x27;&#x27;,\n",
       "                 FunctionTransformer(func=&lt;function _custom_data_transform at 0x000001F87DB808B0&gt;,\n",
       "                                     kw_args={&#x27;cols2keep&#x27;: [&#x27;ocean_proximity&#x27;,\n",
       "                                                            &#x27;housing_median_age&#x27;,\n",
       "                                                            &#x27;total_bedrooms&#x27;,\n",
       "                                                            &#x27;population&#x27;,\n",
       "                                                            &#x27;median_income&#x27;]})),\n",
       "                (&#x27;estimator&#x27;, SKLStatsmodelOLS())])</pre><b>In a Jupyter environment, please rerun this cell to show the HTML representation or trust the notebook. <br />On GitHub, the HTML representation is unable to render, please try loading this page with nbviewer.org.</b></div><div class=\"sk-container\" hidden><div class=\"sk-item sk-dashed-wrapped\"><div class=\"sk-label-container\"><div class=\"sk-label sk-toggleable\"><input class=\"sk-toggleable__control sk-hidden--visually\" id=\"sk-estimator-id-1\" type=\"checkbox\" ><label for=\"sk-estimator-id-1\" class=\"sk-toggleable__label sk-toggleable__label-arrow\">Pipeline</label><div class=\"sk-toggleable__content\"><pre>Pipeline(steps=[(&#x27;&#x27;,\n",
       "                 FunctionTransformer(func=&lt;function _custom_data_transform at 0x000001F87DB808B0&gt;,\n",
       "                                     kw_args={&#x27;cols2keep&#x27;: [&#x27;ocean_proximity&#x27;,\n",
       "                                                            &#x27;housing_median_age&#x27;,\n",
       "                                                            &#x27;total_bedrooms&#x27;,\n",
       "                                                            &#x27;population&#x27;,\n",
       "                                                            &#x27;median_income&#x27;]})),\n",
       "                (&#x27;estimator&#x27;, SKLStatsmodelOLS())])</pre></div></div></div><div class=\"sk-serial\"><div class=\"sk-item\"><div class=\"sk-estimator sk-toggleable\"><input class=\"sk-toggleable__control sk-hidden--visually\" id=\"sk-estimator-id-2\" type=\"checkbox\" ><label for=\"sk-estimator-id-2\" class=\"sk-toggleable__label sk-toggleable__label-arrow\">FunctionTransformer</label><div class=\"sk-toggleable__content\"><pre>FunctionTransformer(func=&lt;function _custom_data_transform at 0x000001F87DB808B0&gt;,\n",
       "                    kw_args={&#x27;cols2keep&#x27;: [&#x27;ocean_proximity&#x27;,\n",
       "                                           &#x27;housing_median_age&#x27;,\n",
       "                                           &#x27;total_bedrooms&#x27;, &#x27;population&#x27;,\n",
       "                                           &#x27;median_income&#x27;]})</pre></div></div></div><div class=\"sk-item\"><div class=\"sk-estimator sk-toggleable\"><input class=\"sk-toggleable__control sk-hidden--visually\" id=\"sk-estimator-id-3\" type=\"checkbox\" ><label for=\"sk-estimator-id-3\" class=\"sk-toggleable__label sk-toggleable__label-arrow\">SKLStatsmodelOLS</label><div class=\"sk-toggleable__content\"><pre>SKLStatsmodelOLS()</pre></div></div></div></div></div></div></div>"
      ],
      "text/plain": [
       "Pipeline(steps=[('',\n",
       "                 FunctionTransformer(func=<function _custom_data_transform at 0x000001F87DB808B0>,\n",
       "                                     kw_args={'cols2keep': ['ocean_proximity',\n",
       "                                                            'housing_median_age',\n",
       "                                                            'total_bedrooms',\n",
       "                                                            'population',\n",
       "                                                            'median_income']})),\n",
       "                ('estimator', SKLStatsmodelOLS())])"
      ]
     },
     "execution_count": 33,
     "metadata": {},
     "output_type": "execute_result"
    }
   ],
   "source": [
    "reg_ppln_ols = Pipeline([\n",
    "    ('',FunctionTransformer(_custom_data_transform, kw_args={'cols2keep':reg_vars})),\n",
    "    ('estimator', SKLStatsmodelOLS())\n",
    "])\n",
    "reg_ppln_ols.fit(train_X, train_y.values.ravel())\n"
   ]
  },
  {
   "cell_type": "code",
   "execution_count": 34,
   "metadata": {},
   "outputs": [
    {
     "data": {
      "text/html": [
       "<table class=\"simpletable\">\n",
       "<caption>OLS Regression Results</caption>\n",
       "<tr>\n",
       "  <th>Dep. Variable:</th>            <td>y</td>        <th>  R-squared:         </th>  <td>   0.648</td>  \n",
       "</tr>\n",
       "<tr>\n",
       "  <th>Model:</th>                   <td>OLS</td>       <th>  Adj. R-squared:    </th>  <td>   0.648</td>  \n",
       "</tr>\n",
       "<tr>\n",
       "  <th>Method:</th>             <td>Least Squares</td>  <th>  F-statistic:       </th>  <td>   6073.</td>  \n",
       "</tr>\n",
       "<tr>\n",
       "  <th>Date:</th>             <td>Tue, 22 Aug 2023</td> <th>  Prob (F-statistic):</th>   <td>  0.00</td>   \n",
       "</tr>\n",
       "<tr>\n",
       "  <th>Time:</th>                 <td>16:57:47</td>     <th>  Log-Likelihood:    </th> <td>-2.0729e+05</td>\n",
       "</tr>\n",
       "<tr>\n",
       "  <th>No. Observations:</th>      <td> 16512</td>      <th>  AIC:               </th>  <td>4.146e+05</td> \n",
       "</tr>\n",
       "<tr>\n",
       "  <th>Df Residuals:</th>          <td> 16506</td>      <th>  BIC:               </th>  <td>4.146e+05</td> \n",
       "</tr>\n",
       "<tr>\n",
       "  <th>Df Model:</th>              <td>     5</td>      <th>                     </th>      <td> </td>     \n",
       "</tr>\n",
       "<tr>\n",
       "  <th>Covariance Type:</th>      <td>nonrobust</td>    <th>                     </th>      <td> </td>     \n",
       "</tr>\n",
       "</table>\n",
       "<table class=\"simpletable\">\n",
       "<tr>\n",
       "           <td></td>             <th>coef</th>     <th>std err</th>      <th>t</th>      <th>P>|t|</th>  <th>[0.025</th>    <th>0.975]</th>  \n",
       "</tr>\n",
       "<tr>\n",
       "  <th>intercept</th>          <td>-1.309e+05</td> <td> 2633.147</td> <td>  -49.728</td> <td> 0.000</td> <td>-1.36e+05</td> <td>-1.26e+05</td>\n",
       "</tr>\n",
       "<tr>\n",
       "  <th>ocean_proximity</th>    <td>    0.6034</td> <td>    0.010</td> <td>   58.182</td> <td> 0.000</td> <td>    0.583</td> <td>    0.624</td>\n",
       "</tr>\n",
       "<tr>\n",
       "  <th>housing_median_age</th> <td> 1317.5024</td> <td>   48.104</td> <td>   27.389</td> <td> 0.000</td> <td> 1223.213</td> <td> 1411.792</td>\n",
       "</tr>\n",
       "<tr>\n",
       "  <th>total_bedrooms</th>     <td>  144.4562</td> <td>    3.198</td> <td>   45.177</td> <td> 0.000</td> <td>  138.189</td> <td>  150.724</td>\n",
       "</tr>\n",
       "<tr>\n",
       "  <th>population</th>         <td>  -46.4615</td> <td>    1.190</td> <td>  -39.029</td> <td> 0.000</td> <td>  -48.795</td> <td>  -44.128</td>\n",
       "</tr>\n",
       "<tr>\n",
       "  <th>median_income</th>      <td> 4.286e+04</td> <td>  321.296</td> <td>  133.397</td> <td> 0.000</td> <td> 4.22e+04</td> <td> 4.35e+04</td>\n",
       "</tr>\n",
       "</table>\n",
       "<table class=\"simpletable\">\n",
       "<tr>\n",
       "  <th>Omnibus:</th>       <td>3565.907</td> <th>  Durbin-Watson:     </th> <td>   2.001</td> \n",
       "</tr>\n",
       "<tr>\n",
       "  <th>Prob(Omnibus):</th>  <td> 0.000</td>  <th>  Jarque-Bera (JB):  </th> <td>10021.277</td>\n",
       "</tr>\n",
       "<tr>\n",
       "  <th>Skew:</th>           <td> 1.143</td>  <th>  Prob(JB):          </th> <td>    0.00</td> \n",
       "</tr>\n",
       "<tr>\n",
       "  <th>Kurtosis:</th>       <td> 6.057</td>  <th>  Cond. No.          </th> <td>1.06e+06</td> \n",
       "</tr>\n",
       "</table><br/><br/>Notes:<br/>[1] Standard Errors assume that the covariance matrix of the errors is correctly specified.<br/>[2] The condition number is large, 1.06e+06. This might indicate that there are<br/>strong multicollinearity or other numerical problems."
      ],
      "text/plain": [
       "<class 'statsmodels.iolib.summary.Summary'>\n",
       "\"\"\"\n",
       "                            OLS Regression Results                            \n",
       "==============================================================================\n",
       "Dep. Variable:                      y   R-squared:                       0.648\n",
       "Model:                            OLS   Adj. R-squared:                  0.648\n",
       "Method:                 Least Squares   F-statistic:                     6073.\n",
       "Date:                Tue, 22 Aug 2023   Prob (F-statistic):               0.00\n",
       "Time:                        16:57:47   Log-Likelihood:            -2.0729e+05\n",
       "No. Observations:               16512   AIC:                         4.146e+05\n",
       "Df Residuals:                   16506   BIC:                         4.146e+05\n",
       "Df Model:                           5                                         \n",
       "Covariance Type:            nonrobust                                         \n",
       "======================================================================================\n",
       "                         coef    std err          t      P>|t|      [0.025      0.975]\n",
       "--------------------------------------------------------------------------------------\n",
       "intercept          -1.309e+05   2633.147    -49.728      0.000   -1.36e+05   -1.26e+05\n",
       "ocean_proximity        0.6034      0.010     58.182      0.000       0.583       0.624\n",
       "housing_median_age  1317.5024     48.104     27.389      0.000    1223.213    1411.792\n",
       "total_bedrooms       144.4562      3.198     45.177      0.000     138.189     150.724\n",
       "population           -46.4615      1.190    -39.029      0.000     -48.795     -44.128\n",
       "median_income       4.286e+04    321.296    133.397      0.000    4.22e+04    4.35e+04\n",
       "==============================================================================\n",
       "Omnibus:                     3565.907   Durbin-Watson:                   2.001\n",
       "Prob(Omnibus):                  0.000   Jarque-Bera (JB):            10021.277\n",
       "Skew:                           1.143   Prob(JB):                         0.00\n",
       "Kurtosis:                       6.057   Cond. No.                     1.06e+06\n",
       "==============================================================================\n",
       "\n",
       "Notes:\n",
       "[1] Standard Errors assume that the covariance matrix of the errors is correctly specified.\n",
       "[2] The condition number is large, 1.06e+06. This might indicate that there are\n",
       "strong multicollinearity or other numerical problems.\n",
       "\"\"\""
      ]
     },
     "execution_count": 34,
     "metadata": {},
     "output_type": "execute_result"
    }
   ],
   "source": [
    "reg_ppln_ols['estimator'].summary()"
   ]
  },
  {
   "cell_type": "markdown",
   "metadata": {},
   "source": [
    "### 4.1.5 Model Evaluation(Linear Model)\n",
    "\n",
    "This will be part of the production code."
   ]
  },
  {
   "cell_type": "code",
   "execution_count": 35,
   "metadata": {},
   "outputs": [],
   "source": [
    "reg_ppln = Pipeline([\n",
    "    ('', FunctionTransformer(_custom_data_transform, kw_args={'cols2keep':reg_vars})),\n",
    "    ('Linear Regression', SKLStatsmodelOLS())\n",
    "])\n",
    "\n",
    "test_X = get_dataframe(\n",
    "    features_transformer.transform(test_X), \n",
    "    get_feature_names_from_column_transformer(features_transformer)\n",
    ")\n",
    "test_X = test_X[curated_columns]"
   ]
  },
  {
   "cell_type": "code",
   "execution_count": 36,
   "metadata": {},
   "outputs": [],
   "source": [
    "reg_linear_report = RegressionReport(model=reg_ppln, x_train=train_X, y_train=train_y, x_test= test_X, y_test= test_y, refit=True)\n",
    "reg_linear_report.get_report(include_shap=False, file_path='regression_linear_model_report')"
   ]
  },
  {
   "cell_type": "markdown",
   "metadata": {},
   "source": [
    "**Dev Notes**\n",
    "Use SHAP for variable interpretability.\n",
    "<details>\n",
    "\n",
    "    1. Use SHAP=True to generate variable interpretability plots in the report\n",
    "    2. SHAP is recommended for non parameteric models such as RF, xgboost.\n",
    "    3. However, SHAP reports are time consuming depending on no.of records and model complexity.\n",
    "    \n",
    "A sample of regerssion report with SHAP can be found [here](https://drive.google.com/file/d/18RlQTsT1ze09Cgz-qpb4ha_cvyWbN5F5/view?usp=sharing).\n",
    "</details>"
   ]
  },
  {
   "cell_type": "markdown",
   "metadata": {},
   "source": [
    "### 4.1.6 Residual Analysis\n",
    "- After scoring the model, it is recommended to do a residual analysis to know the distribution of errors\n",
    "- we took a threshold of 30% above which it is marked as over prediction or underprediction\n",
    "- This will not be part of the production code."
   ]
  },
  {
   "cell_type": "code",
   "execution_count": 37,
   "metadata": {},
   "outputs": [],
   "source": [
    "threshold=0.3\n",
    "residual_analysis = test_X.copy()\n",
    "residual_analysis['prediction'] = reg_ppln_ols.predict(test_X)\n",
    "residual_analysis['actuals'] = test_y.reset_index(drop = True).iloc[:,0].values\n",
    "residual_analysis['forecast_flag'] = 'good'\n",
    "residual_analysis.loc[((residual_analysis['prediction'] > (1+threshold) * residual_analysis['actuals'])\\\n",
    "                       & (residual_analysis['actuals']>100)),'forecast_flag'] = 'over predict'\n",
    "residual_analysis.loc[((residual_analysis['prediction'] < (1-threshold) * residual_analysis['actuals'])\\\n",
    "                       & (residual_analysis['actuals']>100)),'forecast_flag'] = 'under predict'"
   ]
  },
  {
   "cell_type": "code",
   "execution_count": 38,
   "metadata": {},
   "outputs": [
    {
     "data": {
      "text/html": [
       "<div>\n",
       "<style scoped>\n",
       "    .dataframe tbody tr th:only-of-type {\n",
       "        vertical-align: middle;\n",
       "    }\n",
       "\n",
       "    .dataframe tbody tr th {\n",
       "        vertical-align: top;\n",
       "    }\n",
       "\n",
       "    .dataframe thead th {\n",
       "        text-align: right;\n",
       "    }\n",
       "</style>\n",
       "<table border=\"1\" class=\"dataframe\">\n",
       "  <thead>\n",
       "    <tr style=\"text-align: right;\">\n",
       "      <th></th>\n",
       "      <th>ocean_proximity</th>\n",
       "      <th>longitude</th>\n",
       "      <th>latitude</th>\n",
       "      <th>housing_median_age</th>\n",
       "      <th>total_rooms</th>\n",
       "      <th>total_bedrooms</th>\n",
       "      <th>population</th>\n",
       "      <th>households</th>\n",
       "      <th>median_income</th>\n",
       "      <th>income_cat</th>\n",
       "      <th>prediction</th>\n",
       "      <th>actuals</th>\n",
       "      <th>forecast_flag</th>\n",
       "    </tr>\n",
       "  </thead>\n",
       "  <tbody>\n",
       "    <tr>\n",
       "      <th>0</th>\n",
       "      <td>247971.600745</td>\n",
       "      <td>-124.15</td>\n",
       "      <td>40.78</td>\n",
       "      <td>36.0</td>\n",
       "      <td>2112.0</td>\n",
       "      <td>374.0</td>\n",
       "      <td>829.0</td>\n",
       "      <td>368.0</td>\n",
       "      <td>3.3984</td>\n",
       "      <td>3.0</td>\n",
       "      <td>227268.504276</td>\n",
       "      <td>90000.0</td>\n",
       "      <td>over predict</td>\n",
       "    </tr>\n",
       "    <tr>\n",
       "      <th>1</th>\n",
       "      <td>240081.395631</td>\n",
       "      <td>-122.80</td>\n",
       "      <td>38.39</td>\n",
       "      <td>26.0</td>\n",
       "      <td>2273.0</td>\n",
       "      <td>474.0</td>\n",
       "      <td>1124.0</td>\n",
       "      <td>420.0</td>\n",
       "      <td>2.9453</td>\n",
       "      <td>2.0</td>\n",
       "      <td>190652.592171</td>\n",
       "      <td>166700.0</td>\n",
       "      <td>good</td>\n",
       "    </tr>\n",
       "    <tr>\n",
       "      <th>2</th>\n",
       "      <td>240081.395631</td>\n",
       "      <td>-117.80</td>\n",
       "      <td>33.77</td>\n",
       "      <td>29.0</td>\n",
       "      <td>5436.0</td>\n",
       "      <td>707.0</td>\n",
       "      <td>2046.0</td>\n",
       "      <td>685.0</td>\n",
       "      <td>8.7496</td>\n",
       "      <td>5.0</td>\n",
       "      <td>434197.246936</td>\n",
       "      <td>349500.0</td>\n",
       "      <td>good</td>\n",
       "    </tr>\n",
       "    <tr>\n",
       "      <th>3</th>\n",
       "      <td>240081.395631</td>\n",
       "      <td>-118.87</td>\n",
       "      <td>34.23</td>\n",
       "      <td>14.0</td>\n",
       "      <td>4242.0</td>\n",
       "      <td>746.0</td>\n",
       "      <td>1858.0</td>\n",
       "      <td>689.0</td>\n",
       "      <td>6.0145</td>\n",
       "      <td>5.0</td>\n",
       "      <td>311577.314765</td>\n",
       "      <td>287100.0</td>\n",
       "      <td>good</td>\n",
       "    </tr>\n",
       "    <tr>\n",
       "      <th>4</th>\n",
       "      <td>124759.547719</td>\n",
       "      <td>-119.37</td>\n",
       "      <td>36.19</td>\n",
       "      <td>24.0</td>\n",
       "      <td>1306.0</td>\n",
       "      <td>266.0</td>\n",
       "      <td>889.0</td>\n",
       "      <td>276.0</td>\n",
       "      <td>2.4922</td>\n",
       "      <td>2.0</td>\n",
       "      <td>79889.867359</td>\n",
       "      <td>66100.0</td>\n",
       "      <td>good</td>\n",
       "    </tr>\n",
       "  </tbody>\n",
       "</table>\n",
       "</div>"
      ],
      "text/plain": [
       "   ocean_proximity  longitude  latitude  housing_median_age  total_rooms  \\\n",
       "0    247971.600745    -124.15     40.78                36.0       2112.0   \n",
       "1    240081.395631    -122.80     38.39                26.0       2273.0   \n",
       "2    240081.395631    -117.80     33.77                29.0       5436.0   \n",
       "3    240081.395631    -118.87     34.23                14.0       4242.0   \n",
       "4    124759.547719    -119.37     36.19                24.0       1306.0   \n",
       "\n",
       "   total_bedrooms  population  households  median_income  income_cat  \\\n",
       "0           374.0       829.0       368.0         3.3984         3.0   \n",
       "1           474.0      1124.0       420.0         2.9453         2.0   \n",
       "2           707.0      2046.0       685.0         8.7496         5.0   \n",
       "3           746.0      1858.0       689.0         6.0145         5.0   \n",
       "4           266.0       889.0       276.0         2.4922         2.0   \n",
       "\n",
       "      prediction   actuals forecast_flag  \n",
       "0  227268.504276   90000.0  over predict  \n",
       "1  190652.592171  166700.0          good  \n",
       "2  434197.246936  349500.0          good  \n",
       "3  311577.314765  287100.0          good  \n",
       "4   79889.867359   66100.0          good  "
      ]
     },
     "execution_count": 38,
     "metadata": {},
     "output_type": "execute_result"
    }
   ],
   "source": [
    "residual_analysis.head() "
   ]
  },
  {
   "cell_type": "code",
   "execution_count": 39,
   "metadata": {},
   "outputs": [
    {
     "data": {},
     "metadata": {},
     "output_type": "display_data"
    },
    {
     "data": {
      "application/vnd.holoviews_exec.v0+json": "",
      "text/html": [
       "<div id='26854'>\n",
       "  <div class=\"bk-root\" id=\"6bc47232-25c5-4bd3-832d-9a96b84bb4f1\" data-root-id=\"26854\"></div>\n",
       "</div>\n",
       "<script type=\"application/javascript\">(function(root) {\n",
       "  function embed_document(root) {\n",
       "    var docs_json = {\"cb3e3fe9-e828-4947-8fc6-f1fcbd3960a5\":{\"defs\":[{\"extends\":null,\"module\":null,\"name\":\"ReactiveHTML1\",\"overrides\":[],\"properties\":[]},{\"extends\":null,\"module\":null,\"name\":\"FlexBox1\",\"overrides\":[],\"properties\":[{\"default\":\"flex-start\",\"kind\":null,\"name\":\"align_content\"},{\"default\":\"flex-start\",\"kind\":null,\"name\":\"align_items\"},{\"default\":\"row\",\"kind\":null,\"name\":\"flex_direction\"},{\"default\":\"wrap\",\"kind\":null,\"name\":\"flex_wrap\"},{\"default\":\"flex-start\",\"kind\":null,\"name\":\"justify_content\"}]},{\"extends\":null,\"module\":null,\"name\":\"GridStack1\",\"overrides\":[],\"properties\":[{\"default\":\"warn\",\"kind\":null,\"name\":\"mode\"},{\"default\":null,\"kind\":null,\"name\":\"ncols\"},{\"default\":null,\"kind\":null,\"name\":\"nrows\"},{\"default\":true,\"kind\":null,\"name\":\"allow_resize\"},{\"default\":true,\"kind\":null,\"name\":\"allow_drag\"},{\"default\":[],\"kind\":null,\"name\":\"state\"}]},{\"extends\":null,\"module\":null,\"name\":\"click1\",\"overrides\":[],\"properties\":[{\"default\":\"\",\"kind\":null,\"name\":\"terminal_output\"},{\"default\":\"\",\"kind\":null,\"name\":\"debug_name\"},{\"default\":0,\"kind\":null,\"name\":\"clears\"}]},{\"extends\":null,\"module\":null,\"name\":\"NotificationAreaBase1\",\"overrides\":[],\"properties\":[{\"default\":\"bottom-right\",\"kind\":null,\"name\":\"position\"},{\"default\":0,\"kind\":null,\"name\":\"_clear\"}]},{\"extends\":null,\"module\":null,\"name\":\"NotificationArea1\",\"overrides\":[],\"properties\":[{\"default\":[],\"kind\":null,\"name\":\"notifications\"},{\"default\":\"bottom-right\",\"kind\":null,\"name\":\"position\"},{\"default\":0,\"kind\":null,\"name\":\"_clear\"},{\"default\":[{\"background\":\"#ffc107\",\"icon\":{\"className\":\"fas fa-exclamation-triangle\",\"color\":\"white\",\"tagName\":\"i\"},\"type\":\"warning\"},{\"background\":\"#007bff\",\"icon\":{\"className\":\"fas fa-info-circle\",\"color\":\"white\",\"tagName\":\"i\"},\"type\":\"info\"}],\"kind\":null,\"name\":\"types\"}]},{\"extends\":null,\"module\":null,\"name\":\"Notification\",\"overrides\":[],\"properties\":[{\"default\":null,\"kind\":null,\"name\":\"background\"},{\"default\":3000,\"kind\":null,\"name\":\"duration\"},{\"default\":null,\"kind\":null,\"name\":\"icon\"},{\"default\":\"\",\"kind\":null,\"name\":\"message\"},{\"default\":null,\"kind\":null,\"name\":\"notification_type\"},{\"default\":false,\"kind\":null,\"name\":\"_destroyed\"}]},{\"extends\":null,\"module\":null,\"name\":\"TemplateActions1\",\"overrides\":[],\"properties\":[{\"default\":0,\"kind\":null,\"name\":\"open_modal\"},{\"default\":0,\"kind\":null,\"name\":\"close_modal\"}]},{\"extends\":null,\"module\":null,\"name\":\"MaterialTemplateActions1\",\"overrides\":[],\"properties\":[{\"default\":0,\"kind\":null,\"name\":\"open_modal\"},{\"default\":0,\"kind\":null,\"name\":\"close_modal\"}]}],\"roots\":{\"references\":[{\"attributes\":{\"data\":{\"x\":{\"__ndarray__\":\"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\",\"dtype\":\"float64\",\"order\":\"little\",\"shape\":[200]},\"y\":{\"__ndarray__\":\"AAAAAAAAAAAAAAAAAAAAAAAAAAAAAAAAAAAAAAAAAAAAAAAAAAAAAAAAAAAAAAAAAAAAAAAAAAAAAAAAAAAAAAAAAAAAAAAAAAAAAAAAAAAAAAAAAAAAAAAAAAAAAAAAAAAAAAAAAAAAAAAAAAAAAAAAAAAAAAAAAAAAAAAAAAAAAAAAAAAAAAAAAAAAAAAAAAAAAAAAAAAAAAAAAAAAAAAAAAAAAAAAAAAAAAAAAAAAAAAAAAAAAAAAAAAAAAAAAAAAAAAAAAAAAAAAAAAAAAAAAAAAAAAAAAAAAAAAAAAAAAAAAAAAAAAAAAAAAAAAAAAAAAAAAAAAAAAAAAAAAAAAAAAAAAAAAAAAAAAAAAAAAAAAAAAAAAAAAAAAAAAAAAAAAAAAAAAAAAAAAAAAAAAAAAAAAAAAAAAAAAAAAAAAAAAAAAAAAAAAAAAAAAAAAAAAAAAAAAAAAAAAAAAAAAAAAAAAAAAAAAAAAAAAAAAAAAAAAAAAAAAAAAAAAAAAAAAAAAAAAAAAAAAAAAAAAAAAAAAAAAAAAAAAAAAAAAAAAAAAAAAAAAAAAAAAAAAAAAAAAAAAAAAAAAAAAAAAAAAAAAAAAAAAAAAAAAAAAAAAAAAAAAAAAAAAAAAAAAAAAAAAAAAAAAAAAAAAAAAAAAAAAAAAAAAAAAAAAAAAAAAAAAAAAAAAAAAAAAAAAAAAAAAAAAAAAAAAAAAAAAAAAAAAAAAAAAAAAAAAAAAAAAAAAAAAAAAAAAAAAAAAAAAAAAAAAAAAAAAAAAAAAAAAAAAAAAAAAAAAAAAAAAAAAAAAAAAAAAAAAAAAAAAAAAAAAAAAAAAAAAAAAAAAAAAAAAAAAAAAAAAAAAAAAAAAAAAAAAAAAAAAAAAAAAAAAAAAAAAAAAAAAAAAAAAAAAAAAAAAAAAAAAAAAAAAAAAAAAAAAAAAAAAAAAAAAAAAAAAAAAAAAAAAAAAAAAAAAAAAAAAAAAAAAAAAAAAAAAAAAAAAAAAAAAAAAAAAAAAAAAAAAAAAAAAAAAAAAAAAAAAAAAAAAAAAAAAAAAAAAAAAAACP7+VXx5oOP4F+JC6uQR4/Tm1wPimOLD94f7mgM7s5P0ZBYR+kJEY/dnX7Chc0Uj8fgBkqiZpcP/vjl6h0fWU/KbYTk4/nbj96h/hex0p1P9MccWxAKHw/VgD4gH/ogT+NEfkfg/qFPwR8pYgKIoo/xDf6/ZRDjj/VHDet1y2RP4g70AJ1QpM/jNQAH796lT/TcmcqMPqXPynoCKs45Jo/GiIqXlhTnj92tiVNNymhPzO8Qv4rbaM/zDZhIVHqpT85y+n8TJGoP+EuQ0VYU6s/KKTl3MYmrj+WUDPrDYWwP9KFy8ljArI/vS0hdqySsz/pvf4E0j61P+H7BzT4Drc/d+skczkIuT8aWwVBESu7P/0C6oK6cr0/R+nPg4LVvz9mC4B48iLBPyXof3seWsI/DlYyOnGIwz9xc1cqRKfEP20mA1VHssU/9/u/h2Koxj/UEaLQ/YvHP3b1GttzYsg/bXmMRqwyyT9Pqq6sKwPKPzM4+SIm2Mo/hj9lUy+yyz/6QWLS943MP7Bu8xY0Zc0/OhFH8m4wzj/c0+ueROnOPxrdRaljjM8/AH6zklwN0D9mZ4oXrkzQP36b4cUOiNA/T7yKxoPD0D/ffX/WvgHRP9NVDHvyQtE//FEfV1aE0T+xHZ66lMDRP2rj8goM8dE/eX158oAP0j/fwPTWsBfSP4iLejE7CNI/DchhnJPi0T8UOzYgCKrRP2/6Zvg8YtE/ZzmXNK8N0T+9A0KUx6zQP3zUBPDKPdA/4MoHDj57zz8rOnX1GlLOP0JsgsgS/Mw/qKJCEBN5yz8LEFqBfM3JP04/j65XAcg/BX7YM8gexj+eBzeLWDDEP2TXbCufP8I/sxSOioBUwD9qaDbvI+q8P9NybiDqS7k/iBKkzODVtT/lWBOCE4+yP1sqyHPE/a4/5HBV43JaqT/0Xt60M0SkP5pvHudBkp8/fyQc8Ljllz81nkjmmIiRPz9bv7eC4Yg/6fW9BB8JgT8pFHSaNXh2P/snF13ef2w/RJHr1BJbYT9cKF5kR0ZUPwl8Id5KsUY/G05/8n1QOD+2yV4o5+soPw==\",\"dtype\":\"float64\",\"order\":\"little\",\"shape\":[200]}},\"selected\":{\"id\":\"26941\"},\"selection_policy\":{\"id\":\"26959\"}},\"id\":\"26940\",\"type\":\"ColumnDataSource\"},{\"attributes\":{},\"id\":\"26912\",\"type\":\"UnionRenderers\"},{\"attributes\":{\"label\":{\"value\":\"over predict\"},\"renderers\":[{\"id\":\"26903\"}]},\"id\":\"26916\",\"type\":\"LegendItem\"},{\"attributes\":{\"children\":[{\"id\":\"26855\"},{\"id\":\"26861\"},{\"id\":\"27076\"}],\"margin\":[0,0,0,0],\"name\":\"Row65258\",\"tags\":[\"embedded\"]},\"id\":\"26854\",\"type\":\"Row\"},{\"attributes\":{\"click_policy\":\"mute\",\"coordinates\":null,\"group\":null,\"items\":[{\"id\":\"26916\"},{\"id\":\"26938\"},{\"id\":\"26962\"}],\"title\":\"forecast_flag\"},\"id\":\"26915\",\"type\":\"Legend\"},{\"attributes\":{\"margin\":[5,5,5,5],\"name\":\"HSpacer65263\",\"sizing_mode\":\"stretch_width\"},\"id\":\"27076\",\"type\":\"Spacer\"},{\"attributes\":{\"coordinates\":null,\"data_source\":{\"id\":\"26897\"},\"glyph\":{\"id\":\"26900\"},\"group\":null,\"hover_glyph\":null,\"muted_glyph\":{\"id\":\"26902\"},\"nonselection_glyph\":{\"id\":\"26901\"},\"selection_glyph\":{\"id\":\"26917\"},\"view\":{\"id\":\"26904\"}},\"id\":\"26903\",\"type\":\"GlyphRenderer\"},{\"attributes\":{\"fill_alpha\":0.5,\"fill_color\":\"#30a2da\",\"hatch_alpha\":0.1,\"hatch_color\":\"#30a2da\",\"line_alpha\":0.7,\"x\":{\"field\":\"x\"},\"y\":{\"field\":\"y\"}},\"id\":\"26901\",\"type\":\"Patch\"},{\"attributes\":{},\"id\":\"26879\",\"type\":\"PanTool\"},{\"attributes\":{\"fill_alpha\":0.2,\"fill_color\":\"#30a2da\",\"hatch_alpha\":0.2,\"hatch_color\":\"#30a2da\",\"line_alpha\":0.2,\"x\":{\"field\":\"x\"},\"y\":{\"field\":\"y\"}},\"id\":\"26902\",\"type\":\"Patch\"},{\"attributes\":{},\"id\":\"26866\",\"type\":\"LinearScale\"},{\"attributes\":{\"fill_alpha\":0.5,\"fill_color\":\"#30a2da\",\"hatch_alpha\":0.7,\"hatch_color\":\"#30a2da\",\"line_alpha\":0.7,\"x\":{\"field\":\"x\"},\"y\":{\"field\":\"y\"}},\"id\":\"26917\",\"type\":\"Patch\"},{\"attributes\":{\"callback\":null,\"renderers\":[{\"id\":\"26903\"},{\"id\":\"26924\"},{\"id\":\"26946\"}],\"tags\":[\"hv_created\"],\"tooltips\":[[\"forecast_flag\",\"@{forecast_flag}\"],[\"median_income\",\"@{median_income}\"],[\"Density\",\"@{median_income_density}\"]]},\"id\":\"26858\",\"type\":\"HoverTool\"},{\"attributes\":{\"margin\":[5,5,5,5],\"name\":\"HSpacer65262\",\"sizing_mode\":\"stretch_width\"},\"id\":\"26855\",\"type\":\"Spacer\"},{\"attributes\":{\"below\":[{\"id\":\"26870\"}],\"center\":[{\"id\":\"26873\"},{\"id\":\"26877\"},{\"id\":\"26915\"}],\"height\":400,\"left\":[{\"id\":\"26874\"}],\"margin\":[5,5,5,5],\"min_border_bottom\":10,\"min_border_left\":10,\"min_border_right\":10,\"min_border_top\":10,\"renderers\":[{\"id\":\"26903\"},{\"id\":\"26924\"},{\"id\":\"26946\"}],\"sizing_mode\":\"fixed\",\"title\":{\"id\":\"26862\"},\"toolbar\":{\"id\":\"26884\"},\"width\":800,\"x_range\":{\"id\":\"26856\"},\"x_scale\":{\"id\":\"26866\"},\"y_range\":{\"id\":\"26857\"},\"y_scale\":{\"id\":\"26868\"}},\"id\":\"26861\",\"subtype\":\"Figure\",\"type\":\"Plot\"},{\"attributes\":{\"coordinates\":null,\"data_source\":{\"id\":\"26918\"},\"glyph\":{\"id\":\"26921\"},\"group\":null,\"hover_glyph\":null,\"muted_glyph\":{\"id\":\"26923\"},\"nonselection_glyph\":{\"id\":\"26922\"},\"selection_glyph\":{\"id\":\"26939\"},\"view\":{\"id\":\"26925\"}},\"id\":\"26924\",\"type\":\"GlyphRenderer\"},{\"attributes\":{},\"id\":\"26892\",\"type\":\"BasicTickFormatter\"},{\"attributes\":{\"fill_alpha\":0.5,\"fill_color\":\"#fc4f30\",\"hatch_alpha\":0.7,\"hatch_color\":\"#fc4f30\",\"line_alpha\":0.7,\"x\":{\"field\":\"x\"},\"y\":{\"field\":\"y\"}},\"id\":\"26921\",\"type\":\"Patch\"},{\"attributes\":{\"end\":16.29869698628877,\"reset_end\":16.29869698628877,\"reset_start\":-0.634144290759582,\"start\":-0.634144290759582,\"tags\":[[[\"median_income\",\"median_income\",null]]]},\"id\":\"26856\",\"type\":\"Range1d\"},{\"attributes\":{},\"id\":\"26893\",\"type\":\"AllLabels\"},{\"attributes\":{\"end\":0.321048531093577,\"reset_end\":0.321048531093577,\"reset_start\":0.0,\"tags\":[[[\"median_income_density\",\"Density\",null]]]},\"id\":\"26857\",\"type\":\"Range1d\"},{\"attributes\":{},\"id\":\"26895\",\"type\":\"BasicTickFormatter\"},{\"attributes\":{},\"id\":\"26868\",\"type\":\"LinearScale\"},{\"attributes\":{\"label\":{\"value\":\"good\"},\"renderers\":[{\"id\":\"26924\"}]},\"id\":\"26938\",\"type\":\"LegendItem\"},{\"attributes\":{\"axis_label\":\"median_income\",\"coordinates\":null,\"formatter\":{\"id\":\"26892\"},\"group\":null,\"major_label_policy\":{\"id\":\"26893\"},\"ticker\":{\"id\":\"26871\"}},\"id\":\"26870\",\"type\":\"LinearAxis\"},{\"attributes\":{},\"id\":\"26941\",\"type\":\"Selection\"},{\"attributes\":{\"axis\":{\"id\":\"26874\"},\"coordinates\":null,\"dimension\":1,\"grid_line_color\":null,\"group\":null,\"ticker\":null},\"id\":\"26877\",\"type\":\"Grid\"},{\"attributes\":{\"fill_alpha\":0.5,\"fill_color\":\"#fc4f30\",\"hatch_alpha\":0.1,\"hatch_color\":\"#fc4f30\",\"line_alpha\":0.7,\"x\":{\"field\":\"x\"},\"y\":{\"field\":\"y\"}},\"id\":\"26922\",\"type\":\"Patch\"},{\"attributes\":{\"coordinates\":null,\"group\":null,\"text\":\"median_income(density)\",\"text_color\":\"black\",\"text_font_size\":\"12pt\"},\"id\":\"26862\",\"type\":\"Title\"},{\"attributes\":{\"fill_alpha\":0.2,\"fill_color\":\"#fc4f30\",\"hatch_alpha\":0.2,\"hatch_color\":\"#fc4f30\",\"line_alpha\":0.2,\"x\":{\"field\":\"x\"},\"y\":{\"field\":\"y\"}},\"id\":\"26923\",\"type\":\"Patch\"},{\"attributes\":{},\"id\":\"26919\",\"type\":\"Selection\"},{\"attributes\":{\"fill_alpha\":0.5,\"fill_color\":\"#fc4f30\",\"hatch_alpha\":0.7,\"hatch_color\":\"#fc4f30\",\"line_alpha\":0.7,\"x\":{\"field\":\"x\"},\"y\":{\"field\":\"y\"}},\"id\":\"26939\",\"type\":\"Patch\"},{\"attributes\":{},\"id\":\"26896\",\"type\":\"AllLabels\"},{\"attributes\":{\"fill_alpha\":0.5,\"fill_color\":\"#e5ae38\",\"hatch_alpha\":0.7,\"hatch_color\":\"#e5ae38\",\"line_alpha\":0.7,\"x\":{\"field\":\"x\"},\"y\":{\"field\":\"y\"}},\"id\":\"26943\",\"type\":\"Patch\"},{\"attributes\":{},\"id\":\"26871\",\"type\":\"BasicTicker\"},{\"attributes\":{\"source\":{\"id\":\"26940\"}},\"id\":\"26947\",\"type\":\"CDSView\"},{\"attributes\":{\"axis\":{\"id\":\"26870\"},\"coordinates\":null,\"grid_line_color\":null,\"group\":null,\"ticker\":null},\"id\":\"26873\",\"type\":\"Grid\"},{\"attributes\":{\"data\":{\"x\":{\"__ndarray__\":\"9bjdUWo94r9CqJWfJZPZvza93zbtVs2/oKdQujwerr/Q0m6znY+8P1x+AXGWC9I/AkgndUXz3D/ViKY8eu3jP6ltub5RYek/fVLMQCnV7j+om29hgCTyPxIOeSJs3vQ/fICC41eY9z/m8oukQ1L6P1BllWUvDP0/uteeJhvG/z8SJdRzA0ABQEfeWFT5nAJAfJfdNO/5A0CxUGIV5VYFQOYJ5/XaswZAG8Nr1tAQCEBQfPC2xm0JQIU1dZe8ygpAue75d7InDEDvp35YqIQNQCNhAzme4Q5ALA3EDEofEEDGaQb9xM0QQGHGSO0/fBFA+yKL3boqEkCWf83NNdkSQDDcD76whxNAyjhSris2FEBllZSepuQUQP/x1o4hkxVAmk4Zf5xBFkA0q1tvF/AWQM8Hnl+SnhdAaWTgTw1NGEAEwSJAiPsYQJ4dZTADqhlAOXqnIH5YGkDT1ukQ+QYbQG4zLAF0tRtACJBu8e5jHECj7LDhaRIdQD1J89HkwB1A16U1wl9vHkBxAniy2h0fQA1fuqJVzB9A1F1+SWg9IEAhjJ/BpZQgQG66wDnj6yBAvOjhsSBDIUAJFwMqXpohQFZFJKKb8SFAo3NFGtlIIkDxoWaSFqAiQD7QhwpU9yJAi/6ogpFOI0DYLMr6zqUjQCZb63IM/SNAc4kM60lUJEDAty1jh6skQA3mTtvEAiVAWhRwUwJaJUCoQpHLP7ElQPVwskN9CCZAQp/Tu7pfJkCPzfQz+LYmQN37Faw1DidAKio3JHNlJ0B3WFicsLwnQMSGeRTuEyhAErWajCtrKEBf47sEacIoQKwR3XymGSlA+T/+9ONwKUBHbh9tIcgpQJScQOVeHypA4cphXZx2KkAu+YLV2c0qQHsnpE0XJStAyVXFxVR8K0AWhOY9ktMrQGOyB7bPKixAsOAoLg2CLED+DkqmStksQEs9ax6IMC1AmGuMlsWHLUDlma0OA98tQDPIzoZANi5AgPbv/n2NLkDNJBF3u+QuQBtTMu/4Oy9AZ4FTZzaTL0C1r3Tfc+ovQADvyqvYIDBAJ4bbZ3dMMEAnhttnd0wwQADvyqvYIDBAta9033PqL0BngVNnNpMvQBtTMu/4Oy9AzSQRd7vkLkCA9u/+fY0uQDPIzoZANi5A5ZmtDgPfLUCYa4yWxYctQEs9ax6IMC1A/g5KpkrZLECw4CguDYIsQGOyB7bPKixAFoTmPZLTK0DJVcXFVHwrQHsnpE0XJStALvmC1dnNKkDhymFdnHYqQJScQOVeHypAR24fbSHIKUD5P/7043ApQKwR3XymGSlAX+O7BGnCKEAStZqMK2soQMSGeRTuEyhAd1hYnLC8J0AqKjckc2UnQN37Faw1DidAj830M/i2JkBCn9O7ul8mQPVwskN9CCZAqEKRyz+xJUBaFHBTAlolQA3mTtvEAiVAwLctY4erJEBziQzrSVQkQCZb63IM/SNA2CzK+s6lI0CL/qiCkU4jQD7QhwpU9yJA8aFmkhagIkCjc0Ua2UgiQFZFJKKb8SFACRcDKl6aIUC86OGxIEMhQG66wDnj6yBAIYyfwaWUIEDUXX5JaD0gQA1fuqJVzB9AcQJ4stodH0DXpTXCX28eQD1J89HkwB1Ao+yw4WkSHUAIkG7x7mMcQG4zLAF0tRtA09bpEPkGG0A5eqcgflgaQJ4dZTADqhlABMEiQIj7GEBpZOBPDU0YQM8Hnl+SnhdANKtbbxfwFkCaThl/nEEWQP/x1o4hkxVAZZWUnqbkFEDKOFKuKzYUQDDcD76whxNAln/NzTXZEkD7IovduioSQGHGSO0/fBFAxmkG/cTNEEAsDcQMSh8QQCNhAzme4Q5A76d+WKiEDUC57vl3sicMQIU1dZe8ygpAUHzwtsZtCUAbw2vW0BAIQOYJ5/XaswZAsVBiFeVWBUB8l9007/kDQEfeWFT5nAJAEiXUcwNAAUC6154mG8b/P1BllWUvDP0/5vKLpENS+j98gILjV5j3PxIOeSJs3vQ/qJtvYYAk8j99UsxAKdXuP6ltub5RYek/1YimPHrt4z8CSCd1RfPcP1x+AXGWC9I/0NJus52PvD+gp1C6PB6uvza93zbtVs2/QqiVnyWT2b/1uN1Raj3ivw==\",\"dtype\":\"float64\",\"order\":\"little\",\"shape\":[200]},\"y\":{\"__ndarray__\":\"AAAAAAAAAAAAAAAAAAAAAAAAAAAAAAAAAAAAAAAAAAAAAAAAAAAAAAAAAAAAAAAAAAAAAAAAAAAAAAAAAAAAAAAAAAAAAAAAAAAAAAAAAAAAAAAAAAAAAAAAAAAAAAAAAAAAAAAAAAAAAAAAAAAAAAAAAAAAAAAAAAAAAAAAAAAAAAAAAAAAAAAAAAAAAAAAAAAAAAAAAAAAAAAAAAAAAAAAAAAAAAAAAAAAAAAAAAAAAAAAAAAAAAAAAAAAAAAAAAAAAAAAAAAAAAAAAAAAAAAAAAAAAAAAAAAAAAAAAAAAAAAAAAAAAAAAAAAAAAAAAAAAAAAAAAAAAAAAAAAAAAAAAAAAAAAAAAAAAAAAAAAAAAAAAAAAAAAAAAAAAAAAAAAAAAAAAAAAAAAAAAAAAAAAAAAAAAAAAAAAAAAAAAAAAAAAAAAAAAAAAAAAAAAAAAAAAAAAAAAAAAAAAAAAAAAAAAAAAAAAAAAAAAAAAAAAAAAAAAAAAAAAAAAAAAAAAAAAAAAAAAAAAAAAAAAAAAAAAAAAAAAAAAAAAAAAAAAAAAAAAAAAAAAAAAAAAAAAAAAAAAAAAAAAAAAAAAAAAAAAAAAAAAAAAAAAAAAAAAAAAAAAAAAAAAAAAAAAAAAAAAAAAAAAAAAAAAAAAAAAAAAAAAAAAAAAAAAAAAAAAAAAAAAAAAAAAAAAAAAAAAAAAAAAAAAAAAAAAAAAAAAAAAAAAAAAAAAAAAAAAAAAAAAAAAAAAAAAAAAAAAAAAAAAAAAAAAAAAAAAAAAAAAAAAAAAAAAAAAAAAAAAAAAAAAAAAAAAAAAAAAAAAAAAAAAAAAAAAAAAAAAAAAAAAAAAAAAAAAAAAAAAAAAAAAAAAAAAAAAAAAAAAAAAAAAAAAAAAAAAAAAAAAAAAAAAAAAAAAAAAAAAAAAAAAAAAAAAAAAAAAAAAAAAAAAAAAAAAAAAAAAAAAAAAAAAAAAAAAAAAAAAAAAAAAAAAAAAAAAAAAAAAAAAAAAAAAAAAAAAAAAAAAAAAAAAAAAAAAAAAAAAAAAAAAAAAAAAAAAAAAAAAADgvtupJzIVPxE4g86I8i8/FqCKQ86eRD8/a8ghPMxWP3/hsT1UlmU/JRfv97+BcT+6LVOWzVF4PwD5a5oh73w/1Qz+yaV7fT9iqPk347p5PwP+xphPO3M/bjfU5omfaD+jz77AHgJbPxY++xEVb0k/aorfxSb1ND9x+dzksYQhPwvYE4VvlRo/XgEATC60JT9DHQg9wRY0Pw65hRH+jUA/v8945u54Rz+8Fu6jmoRMP0stq64rrU0/Yylg6BVzSj8BD78F9DBEP8i8A376ajo/DP5+GWy/LT8V5P+jh9odPwDRxvji3hA/ZpsC8R/ZEz/rm0hk5TclP6c4nlKrgzc/4GK1LABBRz/Tu5v9mypUP9jhumgFuF4/Lu7xMPmnZD/d1g9YKb5oP9Hdtrr6zGo/AUL/Tmnwaj95m0a7dyRqP8f6ajPUn2k/spvYNKwIaj9dO3micx1rP7c0kH5WHWw/xbMvtuWlbD9JHa+oQFZtP5FX7yCOum8/Td2t70bNcj/uaLjLIg94P9w+feAcjX8/7nMxYp0shD8u9gL10myIP1/cf6ZPwIs/gsa4j9zujT9oFvT6a6aPP1w878yrIpE/BJn56OKSkz+aK+XSDXmXP6NnFto8yZw/94xTbA2xoT+Yi7So7LSlP+PJ6Qnzsao/BbxuZWx4sD+WjFWj8EK0P9evtvSpmbg/Kt6jJ4dAvT/NKc/WxfzAPzQovLZUTcM/iVLN3EyJxT/T/v3sW7DHP/iZvL0sxck/JDubvMfJyz+ZvgIHWL3NP0iibThMms8/fN8DSXGq0D/3iNaKem3RP0ee7pkNC9I/Ou+27WN40j+hqVLR4K3SP7XaRCSfptI/5gjmh19b0j/Mkkx+l73RP9EAgZUUutA/g1TDHuSIzj+4OHzhoMfKP4oWTjUab8Y//m9N8IbhwT/mcjrteBG7P41LTgPRcrM/bMKBpYOHqj/JwRXrBSehP0G15Kcy75Q/e9P0xmfuhz8GE81laF95Pz7xLkqAsmg/vwWbgCLfVT8xz5afsH1BP9Vo7vNRGyk/LE6CcVUVED8z7aGnAEzyPg==\",\"dtype\":\"float64\",\"order\":\"little\",\"shape\":[200]}},\"selected\":{\"id\":\"26898\"},\"selection_policy\":{\"id\":\"26912\"}},\"id\":\"26897\",\"type\":\"ColumnDataSource\"},{\"attributes\":{\"fill_alpha\":0.5,\"fill_color\":\"#30a2da\",\"hatch_alpha\":0.7,\"hatch_color\":\"#30a2da\",\"line_alpha\":0.7,\"x\":{\"field\":\"x\"},\"y\":{\"field\":\"y\"}},\"id\":\"26900\",\"type\":\"Patch\"},{\"attributes\":{\"source\":{\"id\":\"26918\"}},\"id\":\"26925\",\"type\":\"CDSView\"},{\"attributes\":{},\"id\":\"26875\",\"type\":\"BasicTicker\"},{\"attributes\":{\"axis_label\":\"density\",\"coordinates\":null,\"formatter\":{\"id\":\"26895\"},\"group\":null,\"major_label_policy\":{\"id\":\"26896\"},\"ticker\":{\"id\":\"26875\"}},\"id\":\"26874\",\"type\":\"LinearAxis\"},{\"attributes\":{\"fill_alpha\":0.5,\"fill_color\":\"#e5ae38\",\"hatch_alpha\":0.7,\"hatch_color\":\"#e5ae38\",\"line_alpha\":0.7,\"x\":{\"field\":\"x\"},\"y\":{\"field\":\"y\"}},\"id\":\"26963\",\"type\":\"Patch\"},{\"attributes\":{\"coordinates\":null,\"data_source\":{\"id\":\"26940\"},\"glyph\":{\"id\":\"26943\"},\"group\":null,\"hover_glyph\":null,\"muted_glyph\":{\"id\":\"26945\"},\"nonselection_glyph\":{\"id\":\"26944\"},\"selection_glyph\":{\"id\":\"26963\"},\"view\":{\"id\":\"26947\"}},\"id\":\"26946\",\"type\":\"GlyphRenderer\"},{\"attributes\":{\"data\":{\"x\":{\"__ndarray__\":\"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\",\"dtype\":\"float64\",\"order\":\"little\",\"shape\":[200]},\"y\":{\"__ndarray__\":\"AAAAAAAAAAAAAAAAAAAAAAAAAAAAAAAAAAAAAAAAAAAAAAAAAAAAAAAAAAAAAAAAAAAAAAAAAAAAAAAAAAAAAAAAAAAAAAAAAAAAAAAAAAAAAAAAAAAAAAAAAAAAAAAAAAAAAAAAAAAAAAAAAAAAAAAAAAAAAAAAAAAAAAAAAAAAAAAAAAAAAAAAAAAAAAAAAAAAAAAAAAAAAAAAAAAAAAAAAAAAAAAAAAAAAAAAAAAAAAAAAAAAAAAAAAAAAAAAAAAAAAAAAAAAAAAAAAAAAAAAAAAAAAAAAAAAAAAAAAAAAAAAAAAAAAAAAAAAAAAAAAAAAAAAAAAAAAAAAAAAAAAAAAAAAAAAAAAAAAAAAAAAAAAAAAAAAAAAAAAAAAAAAAAAAAAAAAAAAAAAAAAAAAAAAAAAAAAAAAAAAAAAAAAAAAAAAAAAAAAAAAAAAAAAAAAAAAAAAAAAAAAAAAAAAAAAAAAAAAAAAAAAAAAAAAAAAAAAAAAAAAAAAAAAAAAAAAAAAAAAAAAAAAAAAAAAAAAAAAAAAAAAAAAAAAAAAAAAAAAAAAAAAAAAAAAAAAAAAAAAAAAAAAAAAAAAAAAAAAAAAAAAAAAAAAAAAAAAAAAAAAAAAAAAAAAAAAAAAAAAAAAAAAAAAAAAAAAAAAAAAAAAAAAAAAAAAAAAAAAAAAAAAAAAAAAAAAAAAAAAAAAAAAAAAAAAAAAAAAAAAAAAAAAAAAAAAAAAAAAAAAAAAAAAAAAAAAAAAAAAAAAAAAAAAAAAAAAAAAAAAAAAAAAAAAAAAAAAAAAAAAAAAAAAAAAAAAAAAAAAAAAAAAAAAAAAAAAAAAAAAAAAAAAAAAAAAAAAAAAAAAAAAAAAAAAAAAAAAAAAAAAAAAAAAAAAAAAAAAAAAAAAAAAAAAAAAAAAAAAAAAAAAAAAAAAAAAAAAAAAAAAAAAAAAAAAAAAAAAAAAAAAAAAAAAAAAAAAAAAAAAAAAAAAAAAAAAAAAAAAAAAAAAAAAAAAAAAAAAAAAAAAAAAAAAAAAAAAAAAAAAAAAAAAAAAAAAAAAAAAAAAAAAD7kKrO3JzRPsg/TZBow+k+UNXP6V6AAD+0QtWiPpsSP2cJfnSBnCI/quLmsQC0MD+6lj7sM1A7P1KXSFMvtkQ/WKYafjuhTT9Pvh/lDzdUP1NxMmw6YVo/obz2NvxmYD/+MpGwQFpjP9kGzIQ/qmU/niefqzcwZz8YX58bwBtoP92Y8C/C3mg/EvsfAAHzaT+vxD2Ie6ZrP2KjFFJHHW4/B1c3Q6rCcD8SjQBAPRxzP7S8qf9yRHY/7SSAXWImej/C4CQXrk1+P5/Fl0RJB4E/pxcvsglzgj/kRxaMWWKDP29jpv2nAIQ/oTpC+pt/hD9F5kPcDOyEP9ufNzJpKoU/dBdUmHQbhT9R7qM7nMeEP63G1r1TbYQ/l+3peetrhD9AOE/KACKFP6/Upkui2YY/9lkggrrGiT8mBapDigiOP8L28czrz5E/P/P38p8tlT9odEmo0OSYP31Or2tAo5w/4Kc4mZ8KoD9cDLdIooShP7ESvhflxaI/jQtu1nfzoz8jHcqZ1UClPxU/ajIV2aY/SMPuIAjRqD9RJ104kyqrP/z0d22V4q0/NV98/o58sD/IoGX0PDWyPxn628j9ELQ/qf2Xtnn8tT/2uMHz1eO3P7wq2Ka1vLk/IjqxkeyIuz/9Yia+FFK9P8RoaiMAJb8/Uss8EjaIwD8Yuwi835HBP9wngLmhtcI/+IDPdlz2wz/2PNP0pVPFP1TsCb4aysY/EFzHm+BRyD+pzVGKTNzJP21EvZEiVMs/xQumERmizD/lkLgZR7PNP2vJCognfc4/I6M8mnn8zj89cdWtRjDPP/hZ6eGNFc8/arRO9zanzj+K+qVNWeHNP/abjm5xw8w/pW1FzL9Oyz8CUDKBB4PJP/cFOtmpXsc/xJ52+0PkxD/t42umOiLCP4r+vqY7bL4/1zTvdtGRuD8jrZlUUAyzP14P6RXeSaw/eMXnf+YTpD+g9/nDaCubP/AJbk36c5E/mPuks1knhT8wnsyXh/p3P9u3YgWIKGk/mfPsjOgqWD9PtWhr8AlFPx2jezU3czA/ylUWPK/vFj8CV3GckFn8Pg==\",\"dtype\":\"float64\",\"order\":\"little\",\"shape\":[200]}},\"selected\":{\"id\":\"26919\"},\"selection_policy\":{\"id\":\"26935\"}},\"id\":\"26918\",\"type\":\"ColumnDataSource\"},{\"attributes\":{},\"id\":\"26935\",\"type\":\"UnionRenderers\"},{\"attributes\":{\"bottom_units\":\"screen\",\"coordinates\":null,\"fill_alpha\":0.5,\"fill_color\":\"lightgrey\",\"group\":null,\"left_units\":\"screen\",\"level\":\"overlay\",\"line_alpha\":1.0,\"line_color\":\"black\",\"line_dash\":[4,4],\"line_width\":2,\"right_units\":\"screen\",\"syncable\":false,\"top_units\":\"screen\"},\"id\":\"26883\",\"type\":\"BoxAnnotation\"},{\"attributes\":{},\"id\":\"26880\",\"type\":\"WheelZoomTool\"},{\"attributes\":{},\"id\":\"26878\",\"type\":\"SaveTool\"},{\"attributes\":{\"fill_alpha\":0.2,\"fill_color\":\"#e5ae38\",\"hatch_alpha\":0.2,\"hatch_color\":\"#e5ae38\",\"line_alpha\":0.2,\"x\":{\"field\":\"x\"},\"y\":{\"field\":\"y\"}},\"id\":\"26945\",\"type\":\"Patch\"},{\"attributes\":{\"overlay\":{\"id\":\"26883\"}},\"id\":\"26881\",\"type\":\"BoxZoomTool\"},{\"attributes\":{},\"id\":\"26898\",\"type\":\"Selection\"},{\"attributes\":{},\"id\":\"26882\",\"type\":\"ResetTool\"},{\"attributes\":{\"source\":{\"id\":\"26897\"}},\"id\":\"26904\",\"type\":\"CDSView\"},{\"attributes\":{\"fill_alpha\":0.5,\"fill_color\":\"#e5ae38\",\"hatch_alpha\":0.1,\"hatch_color\":\"#e5ae38\",\"line_alpha\":0.7,\"x\":{\"field\":\"x\"},\"y\":{\"field\":\"y\"}},\"id\":\"26944\",\"type\":\"Patch\"},{\"attributes\":{\"label\":{\"value\":\"under predict\"},\"renderers\":[{\"id\":\"26946\"}]},\"id\":\"26962\",\"type\":\"LegendItem\"},{\"attributes\":{\"tools\":[{\"id\":\"26858\"},{\"id\":\"26878\"},{\"id\":\"26879\"},{\"id\":\"26880\"},{\"id\":\"26881\"},{\"id\":\"26882\"}]},\"id\":\"26884\",\"type\":\"Toolbar\"},{\"attributes\":{},\"id\":\"26959\",\"type\":\"UnionRenderers\"}],\"root_ids\":[\"26854\"]},\"title\":\"Bokeh Application\",\"version\":\"2.4.3\"}};\n",
       "    var render_items = [{\"docid\":\"cb3e3fe9-e828-4947-8fc6-f1fcbd3960a5\",\"root_ids\":[\"26854\"],\"roots\":{\"26854\":\"6bc47232-25c5-4bd3-832d-9a96b84bb4f1\"}}];\n",
       "    root.Bokeh.embed.embed_items_notebook(docs_json, render_items);\n",
       "  }\n",
       "  if (root.Bokeh !== undefined && root.Bokeh.Panel !== undefined) {\n",
       "    embed_document(root);\n",
       "  } else {\n",
       "    var attempts = 0;\n",
       "    var timer = setInterval(function(root) {\n",
       "      if (root.Bokeh !== undefined && root.Bokeh.Panel !== undefined) {\n",
       "        clearInterval(timer);\n",
       "        embed_document(root);\n",
       "      } else if (document.readyState == \"complete\") {\n",
       "        attempts++;\n",
       "        if (attempts > 200) {\n",
       "          clearInterval(timer);\n",
       "          console.log(\"Bokeh: ERROR: Unable to run BokehJS code because BokehJS library is missing\");\n",
       "        }\n",
       "      }\n",
       "    }, 25, root)\n",
       "  }\n",
       "})(window);</script>"
      ],
      "text/plain": [
       ":NdOverlay   [forecast_flag]\n",
       "   :Distribution   [median_income]   (Density)"
      ]
     },
     "execution_count": 39,
     "metadata": {
      "application/vnd.holoviews_exec.v0+json": {
       "id": "26854"
      }
     },
     "output_type": "execute_result"
    }
   ],
   "source": [
    "residual_analysis.hvplot.kde(y=\"median_income\",by=\"forecast_flag\", ## Grouping by Predictions\n",
    "                                width=800, height=400,\n",
    "                                alpha=0.7,\n",
    "                                ylabel=\"density\",\n",
    "                                xlabel=\"median_income\",\n",
    "                                title=f'median_income(density)',legend='top_right')"
   ]
  },
  {
   "cell_type": "markdown",
   "metadata": {},
   "source": [
    "- From the above plot we can infer that the higher \"over predictions\" are happening for median_income > 3 .\n",
    "- similarly, the higher \"under predictions\" are happening for median_income > 3 .\n",
    "\n",
    "This can help us tune the model by a separate model for median_income > 3 .\n"
   ]
  },
  {
   "cell_type": "markdown",
   "metadata": {},
   "source": [
    "# 4.2 Modelling - XGBoost"
   ]
  },
  {
   "cell_type": "markdown",
   "metadata": {},
   "source": [
    "## 4.2.1 Model training pipeline\n",
    "\n",
    "Here we focus on creating a collection of pipelines that can be used for tranining respective models.\n",
    "\n",
    "Each model pipeline will essentially be of the form\n",
    "```\n",
    "[\n",
    "('preprocessing', preprocessing_pipeline),\n",
    "('feature_selection', feature_selection_pipeline),\n",
    "('estimator', estimator),\n",
    "]\n",
    "```"
   ]
  },
  {
   "cell_type": "markdown",
   "metadata": {},
   "source": [
    "### 4.2.2 Model Pipeline Build"
   ]
  },
  {
   "cell_type": "code",
   "execution_count": 40,
   "metadata": {},
   "outputs": [
    {
     "name": "stderr",
     "output_type": "stream",
     "text": [
      "pandas.Int64Index is deprecated and will be removed from pandas in a future version. Use pandas.Index with the appropriate dtype instead.\n"
     ]
    },
    {
     "data": {
      "text/html": [
       "<style>#sk-container-id-2 {color: black;background-color: white;}#sk-container-id-2 pre{padding: 0;}#sk-container-id-2 div.sk-toggleable {background-color: white;}#sk-container-id-2 label.sk-toggleable__label {cursor: pointer;display: block;width: 100%;margin-bottom: 0;padding: 0.3em;box-sizing: border-box;text-align: center;}#sk-container-id-2 label.sk-toggleable__label-arrow:before {content: \"▸\";float: left;margin-right: 0.25em;color: #696969;}#sk-container-id-2 label.sk-toggleable__label-arrow:hover:before {color: black;}#sk-container-id-2 div.sk-estimator:hover label.sk-toggleable__label-arrow:before {color: black;}#sk-container-id-2 div.sk-toggleable__content {max-height: 0;max-width: 0;overflow: hidden;text-align: left;background-color: #f0f8ff;}#sk-container-id-2 div.sk-toggleable__content pre {margin: 0.2em;color: black;border-radius: 0.25em;background-color: #f0f8ff;}#sk-container-id-2 input.sk-toggleable__control:checked~div.sk-toggleable__content {max-height: 200px;max-width: 100%;overflow: auto;}#sk-container-id-2 input.sk-toggleable__control:checked~label.sk-toggleable__label-arrow:before {content: \"▾\";}#sk-container-id-2 div.sk-estimator input.sk-toggleable__control:checked~label.sk-toggleable__label {background-color: #d4ebff;}#sk-container-id-2 div.sk-label input.sk-toggleable__control:checked~label.sk-toggleable__label {background-color: #d4ebff;}#sk-container-id-2 input.sk-hidden--visually {border: 0;clip: rect(1px 1px 1px 1px);clip: rect(1px, 1px, 1px, 1px);height: 1px;margin: -1px;overflow: hidden;padding: 0;position: absolute;width: 1px;}#sk-container-id-2 div.sk-estimator {font-family: monospace;background-color: #f0f8ff;border: 1px dotted black;border-radius: 0.25em;box-sizing: border-box;margin-bottom: 0.5em;}#sk-container-id-2 div.sk-estimator:hover {background-color: #d4ebff;}#sk-container-id-2 div.sk-parallel-item::after {content: \"\";width: 100%;border-bottom: 1px solid gray;flex-grow: 1;}#sk-container-id-2 div.sk-label:hover label.sk-toggleable__label {background-color: #d4ebff;}#sk-container-id-2 div.sk-serial::before {content: \"\";position: absolute;border-left: 1px solid gray;box-sizing: border-box;top: 0;bottom: 0;left: 50%;z-index: 0;}#sk-container-id-2 div.sk-serial {display: flex;flex-direction: column;align-items: center;background-color: white;padding-right: 0.2em;padding-left: 0.2em;position: relative;}#sk-container-id-2 div.sk-item {position: relative;z-index: 1;}#sk-container-id-2 div.sk-parallel {display: flex;align-items: stretch;justify-content: center;background-color: white;position: relative;}#sk-container-id-2 div.sk-item::before, #sk-container-id-2 div.sk-parallel-item::before {content: \"\";position: absolute;border-left: 1px solid gray;box-sizing: border-box;top: 0;bottom: 0;left: 50%;z-index: -1;}#sk-container-id-2 div.sk-parallel-item {display: flex;flex-direction: column;z-index: 1;position: relative;background-color: white;}#sk-container-id-2 div.sk-parallel-item:first-child::after {align-self: flex-end;width: 50%;}#sk-container-id-2 div.sk-parallel-item:last-child::after {align-self: flex-start;width: 50%;}#sk-container-id-2 div.sk-parallel-item:only-child::after {width: 0;}#sk-container-id-2 div.sk-dashed-wrapped {border: 1px dashed gray;margin: 0 0.4em 0.5em 0.4em;box-sizing: border-box;padding-bottom: 0.4em;background-color: white;}#sk-container-id-2 div.sk-label label {font-family: monospace;font-weight: bold;display: inline-block;line-height: 1.2em;}#sk-container-id-2 div.sk-label-container {text-align: center;}#sk-container-id-2 div.sk-container {/* jupyter's `normalize.less` sets `[hidden] { display: none; }` but bootstrap.min.css set `[hidden] { display: none !important; }` so we also need the `!important` here to be able to override the default hidden behavior on the sphinx rendered scikit-learn.org. See: https://github.com/scikit-learn/scikit-learn/issues/21755 */display: inline-block !important;position: relative;}#sk-container-id-2 div.sk-text-repr-fallback {display: none;}</style><div id=\"sk-container-id-2\" class=\"sk-top-container\"><div class=\"sk-text-repr-fallback\"><pre>Pipeline(steps=[(&#x27;XGBoost&#x27;,\n",
       "                 XGBRegressor(base_score=0.5, booster=&#x27;gbtree&#x27;,\n",
       "                              colsample_bylevel=1, colsample_bynode=1,\n",
       "                              colsample_bytree=1, enable_categorical=False,\n",
       "                              gamma=0, gpu_id=-1, importance_type=None,\n",
       "                              interaction_constraints=&#x27;&#x27;,\n",
       "                              learning_rate=0.300000012, max_delta_step=0,\n",
       "                              max_depth=6, min_child_weight=1, missing=nan,\n",
       "                              monotone_constraints=&#x27;()&#x27;, n_estimators=100,\n",
       "                              n_jobs=8, num_parallel_tree=1, predictor=&#x27;auto&#x27;,\n",
       "                              random_state=0, reg_alpha=0, reg_lambda=1,\n",
       "                              scale_pos_weight=1, subsample=1,\n",
       "                              tree_method=&#x27;exact&#x27;, validate_parameters=1,\n",
       "                              verbosity=None))])</pre><b>In a Jupyter environment, please rerun this cell to show the HTML representation or trust the notebook. <br />On GitHub, the HTML representation is unable to render, please try loading this page with nbviewer.org.</b></div><div class=\"sk-container\" hidden><div class=\"sk-item sk-dashed-wrapped\"><div class=\"sk-label-container\"><div class=\"sk-label sk-toggleable\"><input class=\"sk-toggleable__control sk-hidden--visually\" id=\"sk-estimator-id-4\" type=\"checkbox\" ><label for=\"sk-estimator-id-4\" class=\"sk-toggleable__label sk-toggleable__label-arrow\">Pipeline</label><div class=\"sk-toggleable__content\"><pre>Pipeline(steps=[(&#x27;XGBoost&#x27;,\n",
       "                 XGBRegressor(base_score=0.5, booster=&#x27;gbtree&#x27;,\n",
       "                              colsample_bylevel=1, colsample_bynode=1,\n",
       "                              colsample_bytree=1, enable_categorical=False,\n",
       "                              gamma=0, gpu_id=-1, importance_type=None,\n",
       "                              interaction_constraints=&#x27;&#x27;,\n",
       "                              learning_rate=0.300000012, max_delta_step=0,\n",
       "                              max_depth=6, min_child_weight=1, missing=nan,\n",
       "                              monotone_constraints=&#x27;()&#x27;, n_estimators=100,\n",
       "                              n_jobs=8, num_parallel_tree=1, predictor=&#x27;auto&#x27;,\n",
       "                              random_state=0, reg_alpha=0, reg_lambda=1,\n",
       "                              scale_pos_weight=1, subsample=1,\n",
       "                              tree_method=&#x27;exact&#x27;, validate_parameters=1,\n",
       "                              verbosity=None))])</pre></div></div></div><div class=\"sk-serial\"><div class=\"sk-item\"><div class=\"sk-estimator sk-toggleable\"><input class=\"sk-toggleable__control sk-hidden--visually\" id=\"sk-estimator-id-5\" type=\"checkbox\" ><label for=\"sk-estimator-id-5\" class=\"sk-toggleable__label sk-toggleable__label-arrow\">XGBRegressor</label><div class=\"sk-toggleable__content\"><pre>XGBRegressor(base_score=0.5, booster=&#x27;gbtree&#x27;, colsample_bylevel=1,\n",
       "             colsample_bynode=1, colsample_bytree=1, enable_categorical=False,\n",
       "             gamma=0, gpu_id=-1, importance_type=None,\n",
       "             interaction_constraints=&#x27;&#x27;, learning_rate=0.300000012,\n",
       "             max_delta_step=0, max_depth=6, min_child_weight=1, missing=nan,\n",
       "             monotone_constraints=&#x27;()&#x27;, n_estimators=100, n_jobs=8,\n",
       "             num_parallel_tree=1, predictor=&#x27;auto&#x27;, random_state=0, reg_alpha=0,\n",
       "             reg_lambda=1, scale_pos_weight=1, subsample=1, tree_method=&#x27;exact&#x27;,\n",
       "             validate_parameters=1, verbosity=None)</pre></div></div></div></div></div></div></div>"
      ],
      "text/plain": [
       "Pipeline(steps=[('XGBoost',\n",
       "                 XGBRegressor(base_score=0.5, booster='gbtree',\n",
       "                              colsample_bylevel=1, colsample_bynode=1,\n",
       "                              colsample_bytree=1, enable_categorical=False,\n",
       "                              gamma=0, gpu_id=-1, importance_type=None,\n",
       "                              interaction_constraints='',\n",
       "                              learning_rate=0.300000012, max_delta_step=0,\n",
       "                              max_depth=6, min_child_weight=1, missing=nan,\n",
       "                              monotone_constraints='()', n_estimators=100,\n",
       "                              n_jobs=8, num_parallel_tree=1, predictor='auto',\n",
       "                              random_state=0, reg_alpha=0, reg_lambda=1,\n",
       "                              scale_pos_weight=1, subsample=1,\n",
       "                              tree_method='exact', validate_parameters=1,\n",
       "                              verbosity=None))])"
      ]
     },
     "execution_count": 40,
     "metadata": {},
     "output_type": "execute_result"
    }
   ],
   "source": [
    "# let's find features for some decent defaults\n",
    "estimator = XGBRegressor()\n",
    "xgb_training_pipe_init = Pipeline([\n",
    "    ('XGBoost', XGBRegressor())\n",
    "])\n",
    "xgb_training_pipe_init.fit(train_X, train_y)"
   ]
  },
  {
   "cell_type": "markdown",
   "metadata": {},
   "source": [
    "### 4.2.3 Model Tuning"
   ]
  },
  {
   "cell_type": "code",
   "execution_count": 41,
   "metadata": {},
   "outputs": [
    {
     "data": {
      "text/plain": [
       "<AxesSubplot:>"
      ]
     },
     "execution_count": 41,
     "metadata": {},
     "output_type": "execute_result"
    },
    {
     "data": {
      "image/png": "[encoded data removed]",
      "text/plain": [
       "<Figure size 640x480 with 1 Axes>"
      ]
     },
     "metadata": {},
     "output_type": "display_data"
    }
   ],
   "source": [
    "# Understanding the Feature Importance\n",
    "%matplotlib inline\n",
    "imp = pd.DataFrame({'importance': xgb_training_pipe_init['XGBoost'].feature_importances_})\n",
    "imp.index = train_X.columns\n",
    "imp.sort_values('importance',inplace=True)\n",
    "imp.plot(kind='barh')"
   ]
  },
  {
   "cell_type": "markdown",
   "metadata": {},
   "source": [
    "##### Pipeline build based on new importance features"
   ]
  },
  {
   "cell_type": "code",
   "execution_count": 42,
   "metadata": {},
   "outputs": [],
   "source": [
    "# let's find features for some decent defaults\n",
    "imp_features = ['median_income','ocean_proximity','latitude','longitude']\n",
    "\n",
    "estimator = XGBRegressor()\n",
    "xgb_training_pipe2 = Pipeline([\n",
    "    ('', FunctionTransformer(_custom_data_transform, kw_args={'cols2keep':imp_features})),\n",
    "    ('XGBoost', XGBRegressor())\n",
    "])"
   ]
  },
  {
   "cell_type": "markdown",
   "metadata": {},
   "source": [
    "#### Grid Search of the Estimator"
   ]
  },
  {
   "cell_type": "code",
   "execution_count": 43,
   "metadata": {},
   "outputs": [
    {
     "name": "stdout",
     "output_type": "stream",
     "text": [
      "Fitting 2 folds for each of 1 candidates, totalling 2 fits\n",
      "0.8133156609898913\n",
      "{'gamma': 0.03, 'learning_rate': 0.1, 'max_depth': 3, 'min_child_weight': 6, 'n_estimators': 500}\n",
      "CPU times: total: 11.3 s\n",
      "Wall time: 5.64 s\n"
     ]
    }
   ],
   "source": [
    "%%time\n",
    "parameters = {\n",
    "   'gamma':[0.03],\n",
    "   'min_child_weight':[6],\n",
    "   'learning_rate':[0.1],\n",
    "   'max_depth':[3],\n",
    "   'n_estimators':[500], \n",
    "}\n",
    "est = XGBRegressor()\n",
    "xgb_grid = GridSearchCV(est,\n",
    "                        parameters,\n",
    "                        cv = 2,\n",
    "                        n_jobs = 4,\n",
    "                        verbose=True)\n",
    "\n",
    "xgb_grid.fit(train_X, train_y)\n",
    "\n",
    "print(xgb_grid.best_score_)\n",
    "print(xgb_grid.best_params_)"
   ]
  },
  {
   "cell_type": "markdown",
   "metadata": {},
   "source": [
    "#### Pipeline Build using the best estimator"
   ]
  },
  {
   "cell_type": "code",
   "execution_count": 44,
   "metadata": {},
   "outputs": [
    {
     "name": "stderr",
     "output_type": "stream",
     "text": [
      "pandas.Int64Index is deprecated and will be removed from pandas in a future version. Use pandas.Index with the appropriate dtype instead.\n"
     ]
    },
    {
     "data": {
      "text/html": [
       "<style>#sk-container-id-3 {color: black;background-color: white;}#sk-container-id-3 pre{padding: 0;}#sk-container-id-3 div.sk-toggleable {background-color: white;}#sk-container-id-3 label.sk-toggleable__label {cursor: pointer;display: block;width: 100%;margin-bottom: 0;padding: 0.3em;box-sizing: border-box;text-align: center;}#sk-container-id-3 label.sk-toggleable__label-arrow:before {content: \"▸\";float: left;margin-right: 0.25em;color: #696969;}#sk-container-id-3 label.sk-toggleable__label-arrow:hover:before {color: black;}#sk-container-id-3 div.sk-estimator:hover label.sk-toggleable__label-arrow:before {color: black;}#sk-container-id-3 div.sk-toggleable__content {max-height: 0;max-width: 0;overflow: hidden;text-align: left;background-color: #f0f8ff;}#sk-container-id-3 div.sk-toggleable__content pre {margin: 0.2em;color: black;border-radius: 0.25em;background-color: #f0f8ff;}#sk-container-id-3 input.sk-toggleable__control:checked~div.sk-toggleable__content {max-height: 200px;max-width: 100%;overflow: auto;}#sk-container-id-3 input.sk-toggleable__control:checked~label.sk-toggleable__label-arrow:before {content: \"▾\";}#sk-container-id-3 div.sk-estimator input.sk-toggleable__control:checked~label.sk-toggleable__label {background-color: #d4ebff;}#sk-container-id-3 div.sk-label input.sk-toggleable__control:checked~label.sk-toggleable__label {background-color: #d4ebff;}#sk-container-id-3 input.sk-hidden--visually {border: 0;clip: rect(1px 1px 1px 1px);clip: rect(1px, 1px, 1px, 1px);height: 1px;margin: -1px;overflow: hidden;padding: 0;position: absolute;width: 1px;}#sk-container-id-3 div.sk-estimator {font-family: monospace;background-color: #f0f8ff;border: 1px dotted black;border-radius: 0.25em;box-sizing: border-box;margin-bottom: 0.5em;}#sk-container-id-3 div.sk-estimator:hover {background-color: #d4ebff;}#sk-container-id-3 div.sk-parallel-item::after {content: \"\";width: 100%;border-bottom: 1px solid gray;flex-grow: 1;}#sk-container-id-3 div.sk-label:hover label.sk-toggleable__label {background-color: #d4ebff;}#sk-container-id-3 div.sk-serial::before {content: \"\";position: absolute;border-left: 1px solid gray;box-sizing: border-box;top: 0;bottom: 0;left: 50%;z-index: 0;}#sk-container-id-3 div.sk-serial {display: flex;flex-direction: column;align-items: center;background-color: white;padding-right: 0.2em;padding-left: 0.2em;position: relative;}#sk-container-id-3 div.sk-item {position: relative;z-index: 1;}#sk-container-id-3 div.sk-parallel {display: flex;align-items: stretch;justify-content: center;background-color: white;position: relative;}#sk-container-id-3 div.sk-item::before, #sk-container-id-3 div.sk-parallel-item::before {content: \"\";position: absolute;border-left: 1px solid gray;box-sizing: border-box;top: 0;bottom: 0;left: 50%;z-index: -1;}#sk-container-id-3 div.sk-parallel-item {display: flex;flex-direction: column;z-index: 1;position: relative;background-color: white;}#sk-container-id-3 div.sk-parallel-item:first-child::after {align-self: flex-end;width: 50%;}#sk-container-id-3 div.sk-parallel-item:last-child::after {align-self: flex-start;width: 50%;}#sk-container-id-3 div.sk-parallel-item:only-child::after {width: 0;}#sk-container-id-3 div.sk-dashed-wrapped {border: 1px dashed gray;margin: 0 0.4em 0.5em 0.4em;box-sizing: border-box;padding-bottom: 0.4em;background-color: white;}#sk-container-id-3 div.sk-label label {font-family: monospace;font-weight: bold;display: inline-block;line-height: 1.2em;}#sk-container-id-3 div.sk-label-container {text-align: center;}#sk-container-id-3 div.sk-container {/* jupyter's `normalize.less` sets `[hidden] { display: none; }` but bootstrap.min.css set `[hidden] { display: none !important; }` so we also need the `!important` here to be able to override the default hidden behavior on the sphinx rendered scikit-learn.org. See: https://github.com/scikit-learn/scikit-learn/issues/21755 */display: inline-block !important;position: relative;}#sk-container-id-3 div.sk-text-repr-fallback {display: none;}</style><div id=\"sk-container-id-3\" class=\"sk-top-container\"><div class=\"sk-text-repr-fallback\"><pre>Pipeline(steps=[(&#x27;&#x27;,\n",
       "                 FunctionTransformer(func=&lt;function _custom_data_transform at 0x000001F87DB808B0&gt;,\n",
       "                                     kw_args={&#x27;cols2keep&#x27;: [&#x27;median_income&#x27;,\n",
       "                                                            &#x27;ocean_proximity&#x27;,\n",
       "                                                            &#x27;latitude&#x27;,\n",
       "                                                            &#x27;longitude&#x27;]})),\n",
       "                (&#x27;XGBoost&#x27;,\n",
       "                 XGBRegressor(base_score=0.5, booster=&#x27;gbtree&#x27;,\n",
       "                              colsample_bylevel=1, colsample_bynode=1,\n",
       "                              colsample_bytree=1, enable_categorical=False,\n",
       "                              gamma=0.03, gpu_id=-1, importance_type=None,\n",
       "                              interaction_constraints=&#x27;&#x27;, learning_rate=0.1,\n",
       "                              max_delta_step=0, max_depth=3, min_child_weight=6,\n",
       "                              missing=nan, monotone_constraints=&#x27;()&#x27;,\n",
       "                              n_estimators=500, n_jobs=8, num_parallel_tree=1,\n",
       "                              predictor=&#x27;auto&#x27;, random_state=0, reg_alpha=0,\n",
       "                              reg_lambda=1, scale_pos_weight=1, subsample=1,\n",
       "                              tree_method=&#x27;exact&#x27;, validate_parameters=1,\n",
       "                              verbosity=None))])</pre><b>In a Jupyter environment, please rerun this cell to show the HTML representation or trust the notebook. <br />On GitHub, the HTML representation is unable to render, please try loading this page with nbviewer.org.</b></div><div class=\"sk-container\" hidden><div class=\"sk-item sk-dashed-wrapped\"><div class=\"sk-label-container\"><div class=\"sk-label sk-toggleable\"><input class=\"sk-toggleable__control sk-hidden--visually\" id=\"sk-estimator-id-6\" type=\"checkbox\" ><label for=\"sk-estimator-id-6\" class=\"sk-toggleable__label sk-toggleable__label-arrow\">Pipeline</label><div class=\"sk-toggleable__content\"><pre>Pipeline(steps=[(&#x27;&#x27;,\n",
       "                 FunctionTransformer(func=&lt;function _custom_data_transform at 0x000001F87DB808B0&gt;,\n",
       "                                     kw_args={&#x27;cols2keep&#x27;: [&#x27;median_income&#x27;,\n",
       "                                                            &#x27;ocean_proximity&#x27;,\n",
       "                                                            &#x27;latitude&#x27;,\n",
       "                                                            &#x27;longitude&#x27;]})),\n",
       "                (&#x27;XGBoost&#x27;,\n",
       "                 XGBRegressor(base_score=0.5, booster=&#x27;gbtree&#x27;,\n",
       "                              colsample_bylevel=1, colsample_bynode=1,\n",
       "                              colsample_bytree=1, enable_categorical=False,\n",
       "                              gamma=0.03, gpu_id=-1, importance_type=None,\n",
       "                              interaction_constraints=&#x27;&#x27;, learning_rate=0.1,\n",
       "                              max_delta_step=0, max_depth=3, min_child_weight=6,\n",
       "                              missing=nan, monotone_constraints=&#x27;()&#x27;,\n",
       "                              n_estimators=500, n_jobs=8, num_parallel_tree=1,\n",
       "                              predictor=&#x27;auto&#x27;, random_state=0, reg_alpha=0,\n",
       "                              reg_lambda=1, scale_pos_weight=1, subsample=1,\n",
       "                              tree_method=&#x27;exact&#x27;, validate_parameters=1,\n",
       "                              verbosity=None))])</pre></div></div></div><div class=\"sk-serial\"><div class=\"sk-item\"><div class=\"sk-estimator sk-toggleable\"><input class=\"sk-toggleable__control sk-hidden--visually\" id=\"sk-estimator-id-7\" type=\"checkbox\" ><label for=\"sk-estimator-id-7\" class=\"sk-toggleable__label sk-toggleable__label-arrow\">FunctionTransformer</label><div class=\"sk-toggleable__content\"><pre>FunctionTransformer(func=&lt;function _custom_data_transform at 0x000001F87DB808B0&gt;,\n",
       "                    kw_args={&#x27;cols2keep&#x27;: [&#x27;median_income&#x27;, &#x27;ocean_proximity&#x27;,\n",
       "                                           &#x27;latitude&#x27;, &#x27;longitude&#x27;]})</pre></div></div></div><div class=\"sk-item\"><div class=\"sk-estimator sk-toggleable\"><input class=\"sk-toggleable__control sk-hidden--visually\" id=\"sk-estimator-id-8\" type=\"checkbox\" ><label for=\"sk-estimator-id-8\" class=\"sk-toggleable__label sk-toggleable__label-arrow\">XGBRegressor</label><div class=\"sk-toggleable__content\"><pre>XGBRegressor(base_score=0.5, booster=&#x27;gbtree&#x27;, colsample_bylevel=1,\n",
       "             colsample_bynode=1, colsample_bytree=1, enable_categorical=False,\n",
       "             gamma=0.03, gpu_id=-1, importance_type=None,\n",
       "             interaction_constraints=&#x27;&#x27;, learning_rate=0.1, max_delta_step=0,\n",
       "             max_depth=3, min_child_weight=6, missing=nan,\n",
       "             monotone_constraints=&#x27;()&#x27;, n_estimators=500, n_jobs=8,\n",
       "             num_parallel_tree=1, predictor=&#x27;auto&#x27;, random_state=0, reg_alpha=0,\n",
       "             reg_lambda=1, scale_pos_weight=1, subsample=1, tree_method=&#x27;exact&#x27;,\n",
       "             validate_parameters=1, verbosity=None)</pre></div></div></div></div></div></div></div>"
      ],
      "text/plain": [
       "Pipeline(steps=[('',\n",
       "                 FunctionTransformer(func=<function _custom_data_transform at 0x000001F87DB808B0>,\n",
       "                                     kw_args={'cols2keep': ['median_income',\n",
       "                                                            'ocean_proximity',\n",
       "                                                            'latitude',\n",
       "                                                            'longitude']})),\n",
       "                ('XGBoost',\n",
       "                 XGBRegressor(base_score=0.5, booster='gbtree',\n",
       "                              colsample_bylevel=1, colsample_bynode=1,\n",
       "                              colsample_bytree=1, enable_categorical=False,\n",
       "                              gamma=0.03, gpu_id=-1, importance_type=None,\n",
       "                              interaction_constraints='', learning_rate=0.1,\n",
       "                              max_delta_step=0, max_depth=3, min_child_weight=6,\n",
       "                              missing=nan, monotone_constraints='()',\n",
       "                              n_estimators=500, n_jobs=8, num_parallel_tree=1,\n",
       "                              predictor='auto', random_state=0, reg_alpha=0,\n",
       "                              reg_lambda=1, scale_pos_weight=1, subsample=1,\n",
       "                              tree_method='exact', validate_parameters=1,\n",
       "                              verbosity=None))])"
      ]
     },
     "execution_count": 44,
     "metadata": {},
     "output_type": "execute_result"
    }
   ],
   "source": [
    "xgb_pipeline_final = Pipeline([\n",
    "    ('', FunctionTransformer(_custom_data_transform, kw_args={'cols2keep':imp_features})),\n",
    "    ('XGBoost', xgb_grid.best_estimator_)\n",
    "])\n",
    "xgb_pipeline_final.fit(train_X, train_y)"
   ]
  },
  {
   "cell_type": "code",
   "execution_count": 45,
   "metadata": {},
   "outputs": [
    {
     "name": "stderr",
     "output_type": "stream",
     "text": [
      "pandas.Int64Index is deprecated and will be removed from pandas in a future version. Use pandas.Index with the appropriate dtype instead.\n",
      "pandas.Int64Index is deprecated and will be removed from pandas in a future version. Use pandas.Index with the appropriate dtype instead.\n"
     ]
    }
   ],
   "source": [
    "reg_tree_report = RegressionReport(model=xgb_pipeline_final, x_train=train_X, y_train=train_y, x_test= test_X, y_test= test_y)\n",
    "reg_tree_report.get_report(include_shap=False, file_path='regression_tree_model_report')"
   ]
  },
  {
   "cell_type": "markdown",
   "metadata": {},
   "source": [
    "The Regression report containing the feature importances are available [here](https://drive.google.com/file/d/1-VvhnH-TELL_SYQP1SA91KeGbSI48bCl/view?usp=sharing)"
   ]
  },
  {
   "cell_type": "code",
   "execution_count": null,
   "metadata": {},
   "outputs": [],
   "source": []
  }
 ],
 "metadata": {
  "kernelspec": {
   "display_name": "Python 3 (ipykernel)",
   "language": "python",
   "name": "python3"
  },
  "language_info": {
   "codemirror_mode": {
    "name": "ipython",
    "version": 3
   },
   "file_extension": ".py",
   "mimetype": "text/x-python",
   "name": "python",
   "nbconvert_exporter": "python",
   "pygments_lexer": "ipython3",
   "version": "3.9.17"
  }
 },
 "nbformat": 4,
 "nbformat_minor": 4
}
